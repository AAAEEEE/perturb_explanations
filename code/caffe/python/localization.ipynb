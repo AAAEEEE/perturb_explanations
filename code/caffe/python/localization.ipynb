{
 "cells": [
  {
   "cell_type": "code",
   "execution_count": 14,
   "metadata": {
    "collapsed": false
   },
   "outputs": [
    {
     "name": "stdout",
     "output_type": "stream",
     "text": [
      "The autoreload extension is already loaded. To reload it, use:\n",
      "  %reload_ext autoreload\n"
     ]
    }
   ],
   "source": [
    "import numpy as np\n",
    "from scipy.misc import imresize\n",
    "import pylab\n",
    "import matplotlib.pyplot as plt\n",
    "import matplotlib.patches as patches\n",
    "from skimage import transform, filters\n",
    "import sys, os\n",
    "\n",
    "%matplotlib notebook\n",
    "\n",
    "%load_ext autoreload\n",
    "%autoreload 2\n",
    "\n",
    "import caffe\n",
    "\n",
    "from helpers import *\n",
    "from heatmaps import *\n",
    "from optimize_mask import *"
   ]
  },
  {
   "cell_type": "code",
   "execution_count": 15,
   "metadata": {
    "collapsed": false
   },
   "outputs": [],
   "source": [
    "# TODO: Change this to your own Caffe-ExcitationBP directory\n",
    "caffe_dir = '/home/ruthfong/sample_code/Caffe-ExcitationBP/'\n",
    "\n",
    "gpu = 0 # gpu = None # for CPU-only\n",
    "net_type = 'googlenet'\n",
    "\n",
    "if gpu is not None:\n",
    "    caffe.set_device(gpu)\n",
    "    caffe.set_mode_gpu()\n",
    "else:\n",
    "    caffe.set_mode_cpu()\n",
    "\n",
    "net = get_net(net_type)"
   ]
  },
  {
   "cell_type": "code",
   "execution_count": 16,
   "metadata": {
    "collapsed": true
   },
   "outputs": [],
   "source": [
    "labels_desc = np.loadtxt(os.path.join(caffe_dir, 'data/ilsvrc12/synset_words.txt'), str, delimiter='\\t')\n",
    "synsets = np.loadtxt(os.path.join(caffe_dir, 'data/ilsvrc12/synsets.txt'), str, delimiter='\\t')\n",
    "indexing = np.loadtxt('../../../data/ilsvrc12/ascii_order_to_synset_order.txt')\n",
    "reverse_indexing = np.loadtxt('../../../data/ilsvrc12/synset_order_to_ascii_order.txt', dtype=int)\n",
    "(paths, labels) = read_imdb('../../../data/ilsvrc12/annotated_train_heldout_imdb.txt')\n",
    "data_desc = 'train_heldout'\n",
    "\n",
    "# Set generate_ann_dir = True to create a dir containing only the 5000 heldout training images' bounding box annotations (one-time only)\n",
    "# Download ImageNet bounding box here: http://image-net.org/Annotation/Annotation.tar.gz \n",
    "# (from http://image-net.org/download-bboxes)\n",
    "# TODO set orig_ilsvrc_ann_dir to the unzipped Annotation dir and ann_dir to where you want to save the heldout ann dir\n",
    "generate_ann_dir = False\n",
    "if generate_ann_dir:\n",
    "    orig_ilsvrc_ann_dir = '/data/ruthfong/ILSVRC2012/Annotation'\n",
    "    train_ann_dir = '/data/ruthfong/ILSVRC2012/annotated_train_heldout_ground_truth_annotations'\n",
    "    create_heldout_annotated_dir(orig_ilsvrc_ann_dir, ann_dir, \n",
    "                                 imdb='../../../data/ilsvrc12/annotated_train_heldout_imdb.txt')\n",
    "else:\n",
    "    train_ann_dir = '/data/ruthfong/ILSVRC2012/annotated_train_heldout_ground_truth_annotations'\n",
    "ann_dir = train_ann_dir\n",
    "ann_paths = np.sort([os.path.join(ann_dir, f) for f in os.listdir(ann_dir)])\n",
    "\n",
    "# TODO - set to the validation annotations dir\n",
    "val_ann_dir = '/data/ruthfong/ILSVRC2012/val'\n",
    "\n",
    "# TODO replace with mask dir (ideally holding learned masks from the 5000 heldout training images)\n",
    "# though most examples can be generated in this notebook, in which case make mask_dir the location in which\n",
    "# you want to save the learned masks and set generate_masks = True\n",
    "# Note: for localization, we use slightly different settings\n",
    "generate_masks = False\n",
    "mask_dir = '/data/ruthfong/neural_coding/pycaffe_results/googlenet_train_heldout_given_grad_1_norm_0/min_top5_prob_blur/lr_-1.00_l1_lambda_-3.00_tv_lambda_-inf_l1_lambda_2_-2.00_beta_2.00_mask_scale_8_blur_mask_5_jitter_4_noise_-inf_num_iters_300_tv2_mask_init'\n",
    "# mask_dir = '/data/ruthfong/neural_coding/pycaffe_results/googlenet_train_heldout_given_grad_1_norm_0/min_top0_prob_blur/lr_-1.00_l1_lambda_-4.00_tv_lambda_-inf_l1_lambda_2_-2.00_beta_3.00_mask_scale_8_blur_mask_5_jitter_4_noise_-inf_num_iters_300_tv2_mask_init'\n",
    "if generate_masks == False:\n",
    "    mask_paths = [os.path.join(mask_dir, '%d.npy' % x) for x in range(len(labels))]"
   ]
  },
  {
   "cell_type": "code",
   "execution_count": 17,
   "metadata": {
    "collapsed": false
   },
   "outputs": [
    {
     "data": {
      "text/plain": [
       "'n01440764 tench, Tinca tinca'"
      ]
     },
     "execution_count": 17,
     "metadata": {},
     "output_type": "execute_result"
    }
   ],
   "source": [
    "labels_desc[0]"
   ]
  },
  {
   "cell_type": "markdown",
   "metadata": {},
   "source": [
    "## Pre-reqs\n",
    "* Learn optimized masks for 50k validation images using localization hyperparameters (Run `python optimize_mask.py val localization`)\n",
    "* Run `python heatmaps.py OUT_PATH val HEATMAP_TYPE THRESHOLD_TYPE [MASK_DIR] [GPU]`\n",
    "    * `OUT_PATH` is where to save the output file with bounding box information\n",
    "    * `MASK_DIR` is where the masks for the 50k val images are saved (only include when using `HEATMAP_TYPE` = `mask`), \n",
    "    * `HEATMAP_TYPE` $\\in$ [`mask`, `saliency` (a.k.a. gradient), `guided_backprop`, `excitation_backprop`], and \n",
    "    * `THRESHOLD_TYPE` $\\in$ [`min_max_diff` (a.k.a. value), `energy`, `mean`]\n",
    "* (Optional, to replicate finding alpha thresholds) Learn optimized masks for 5000 heldout images using localization hyperparameters (Run `python optimize_mask.py heldout localization`)\n",
    "* (Optional, to replicate finding alpha thresholds) Run `python heatmaps.py OUT_DIR annotated_train_heldout HEATMAP_TYPE THRESHOLD_TYPE [MASK_DIR] [GPU]`\n",
    "    * `OUT_DIR` is the directory in which to save the output files with bounding box information for the alpha search\n",
    "    * `MASK_DIR` is where the masks for the 5k heldout training images are saved (only include when using `HEATMAP_TYPE` = `mask`), "
   ]
  },
  {
   "cell_type": "code",
   "execution_count": 8,
   "metadata": {
    "collapsed": true
   },
   "outputs": [],
   "source": [
    "def find_best_alpha(bb_file_prefix, alphas = np.arange(0,1,0.05)):\n",
    "    errs = np.zeros(len(alphas))\n",
    "    for i in range(len(alphas)):\n",
    "        alpha = alphas[i]\n",
    "        bb_file = bb_file_prefix % alpha\n",
    "        (err, _, _) = compute_localization_results(bb_file, ann_paths, synsets=synsets, \n",
    "                                                   reverse_indexing=reverse_indexing)\n",
    "        errs[i] = err\n",
    "    for i in range(len(alphas)):\n",
    "        print 'alpha = %.2f, err = %f' % (alphas[i], errs[i])\n",
    "    min_i = np.argmin(errs)\n",
    "    print 'best alpha = %.2f, err = %f' % (alphas[min_i], errs[min_i])\n",
    "    return errs"
   ]
  },
  {
   "cell_type": "code",
   "execution_count": 24,
   "metadata": {
    "collapsed": false
   },
   "outputs": [
    {
     "name": "stdout",
     "output_type": "stream",
     "text": [
      "Grad-CAM Energy\n",
      "alpha = 0.00, err = 0.790000\n",
      "alpha = 0.05, err = 0.956000\n",
      "alpha = 0.10, err = 0.887800\n",
      "alpha = 0.15, err = 0.799600\n",
      "alpha = 0.20, err = 0.726000\n",
      "alpha = 0.25, err = 0.661400\n",
      "alpha = 0.30, err = 0.613000\n",
      "alpha = 0.35, err = 0.576400\n",
      "alpha = 0.40, err = 0.548600\n",
      "alpha = 0.45, err = 0.527800\n",
      "alpha = 0.50, err = 0.519400\n",
      "alpha = 0.55, err = 0.513400\n",
      "alpha = 0.60, err = 0.511200\n",
      "alpha = 0.65, err = 0.508600\n",
      "alpha = 0.70, err = 0.510600\n",
      "alpha = 0.75, err = 0.515000\n",
      "alpha = 0.80, err = 0.521200\n",
      "alpha = 0.85, err = 0.527600\n",
      "alpha = 0.90, err = 0.533400\n",
      "alpha = 0.95, err = 0.540200\n",
      "best alpha = 0.65, err = 0.508600\n",
      "\n",
      "Grad-CAM Value\n",
      "alpha = 0.00, err = 0.549800\n",
      "alpha = 0.05, err = 0.544000\n",
      "alpha = 0.10, err = 0.534800\n",
      "alpha = 0.15, err = 0.526400\n",
      "alpha = 0.20, err = 0.513600\n",
      "alpha = 0.25, err = 0.506400\n",
      "alpha = 0.30, err = 0.495400\n",
      "alpha = 0.35, err = 0.495200\n",
      "alpha = 0.40, err = 0.506800\n",
      "alpha = 0.45, err = 0.522200\n",
      "alpha = 0.50, err = 0.559000\n",
      "alpha = 0.55, err = 0.600200\n",
      "alpha = 0.60, err = 0.648800\n",
      "alpha = 0.65, err = 0.705800\n",
      "alpha = 0.70, err = 0.760600\n",
      "alpha = 0.75, err = 0.808400\n",
      "alpha = 0.80, err = 0.864200\n",
      "alpha = 0.85, err = 0.914800\n",
      "alpha = 0.90, err = 0.950800\n",
      "alpha = 0.95, err = 0.978400\n",
      "best alpha = 0.35, err = 0.495200\n",
      "\n",
      "Grad-CAM Mean\n"
     ]
    },
    {
     "ename": "IOError",
     "evalue": "[Errno 2] No such file or directory: '/data/ruthfong/neural_coding/loc_preds/googlenet_annotated_train_heldout_gt_pycaffe/grad_cam/grad_cam_mean_alpha_0.05_norm_None.txt'",
     "output_type": "error",
     "traceback": [
      "\u001b[0;31m---------------------------------------------------------------------------\u001b[0m",
      "\u001b[0;31mIOError\u001b[0m                                   Traceback (most recent call last)",
      "\u001b[0;32m<ipython-input-24-cd273365f567>\u001b[0m in \u001b[0;36m<module>\u001b[0;34m()\u001b[0m\n\u001b[1;32m     18\u001b[0m         \u001b[0m_\u001b[0m \u001b[0;34m=\u001b[0m \u001b[0mfind_best_alpha\u001b[0m\u001b[0;34m(\u001b[0m\u001b[0mformats\u001b[0m\u001b[0;34m[\u001b[0m\u001b[0mi\u001b[0m\u001b[0;34m]\u001b[0m\u001b[0;34m,\u001b[0m \u001b[0malphas\u001b[0m\u001b[0;34m=\u001b[0m\u001b[0malphas\u001b[0m\u001b[0;34m)\u001b[0m\u001b[0;34m\u001b[0m\u001b[0m\n\u001b[1;32m     19\u001b[0m     \u001b[0;32melse\u001b[0m\u001b[0;34m:\u001b[0m\u001b[0;34m\u001b[0m\u001b[0m\n\u001b[0;32m---> 20\u001b[0;31m         \u001b[0m_\u001b[0m \u001b[0;34m=\u001b[0m \u001b[0mfind_best_alpha\u001b[0m\u001b[0;34m(\u001b[0m\u001b[0mformats\u001b[0m\u001b[0;34m[\u001b[0m\u001b[0mi\u001b[0m\u001b[0;34m]\u001b[0m\u001b[0;34m)\u001b[0m\u001b[0;34m\u001b[0m\u001b[0m\n\u001b[0m\u001b[1;32m     21\u001b[0m     \u001b[0;32mprint\u001b[0m \u001b[0;34m''\u001b[0m\u001b[0;34m\u001b[0m\u001b[0m\n",
      "\u001b[0;32m<ipython-input-8-ac97322cf81a>\u001b[0m in \u001b[0;36mfind_best_alpha\u001b[0;34m(bb_file_prefix, alphas)\u001b[0m\n\u001b[1;32m      5\u001b[0m         \u001b[0mbb_file\u001b[0m \u001b[0;34m=\u001b[0m \u001b[0mbb_file_prefix\u001b[0m \u001b[0;34m%\u001b[0m \u001b[0malpha\u001b[0m\u001b[0;34m\u001b[0m\u001b[0m\n\u001b[1;32m      6\u001b[0m         (err, _, _) = compute_localization_results(bb_file, ann_paths, synsets=synsets, \n\u001b[0;32m----> 7\u001b[0;31m                                                    reverse_indexing=reverse_indexing)\n\u001b[0m\u001b[1;32m      8\u001b[0m         \u001b[0merrs\u001b[0m\u001b[0;34m[\u001b[0m\u001b[0mi\u001b[0m\u001b[0;34m]\u001b[0m \u001b[0;34m=\u001b[0m \u001b[0merr\u001b[0m\u001b[0;34m\u001b[0m\u001b[0m\n\u001b[1;32m      9\u001b[0m     \u001b[0;32mfor\u001b[0m \u001b[0mi\u001b[0m \u001b[0;32min\u001b[0m \u001b[0mrange\u001b[0m\u001b[0;34m(\u001b[0m\u001b[0mlen\u001b[0m\u001b[0;34m(\u001b[0m\u001b[0malphas\u001b[0m\u001b[0;34m)\u001b[0m\u001b[0;34m)\u001b[0m\u001b[0;34m:\u001b[0m\u001b[0;34m\u001b[0m\u001b[0m\n",
      "\u001b[0;32m/users/ruthfong/neural_coding/code/caffe/python/helpers.pyc\u001b[0m in \u001b[0;36mcompute_localization_results\u001b[0;34m(bb_file, ann_paths, verbose, synsets, reverse_indexing)\u001b[0m\n\u001b[1;32m    302\u001b[0m     \u001b[0;32mif\u001b[0m \u001b[0mverbose\u001b[0m\u001b[0;34m:\u001b[0m\u001b[0;34m\u001b[0m\u001b[0m\n\u001b[1;32m    303\u001b[0m         \u001b[0;32mprint\u001b[0m \u001b[0;34m'Loading bounding boxes from'\u001b[0m\u001b[0;34m,\u001b[0m \u001b[0mbb_file\u001b[0m\u001b[0;34m\u001b[0m\u001b[0m\n\u001b[0;32m--> 304\u001b[0;31m     \u001b[0mbb_data\u001b[0m \u001b[0;34m=\u001b[0m \u001b[0mnp\u001b[0m\u001b[0;34m.\u001b[0m\u001b[0mloadtxt\u001b[0m\u001b[0;34m(\u001b[0m\u001b[0mbb_file\u001b[0m\u001b[0;34m)\u001b[0m\u001b[0;34m\u001b[0m\u001b[0m\n\u001b[0m\u001b[1;32m    305\u001b[0m     \u001b[0mbb_labels\u001b[0m \u001b[0;34m=\u001b[0m \u001b[0mbb_data\u001b[0m\u001b[0;34m[\u001b[0m\u001b[0;34m:\u001b[0m\u001b[0;34m,\u001b[0m\u001b[0;36m0\u001b[0m\u001b[0;34m]\u001b[0m\u001b[0;34m.\u001b[0m\u001b[0mastype\u001b[0m\u001b[0;34m(\u001b[0m\u001b[0mint\u001b[0m\u001b[0;34m)\u001b[0m\u001b[0;34m\u001b[0m\u001b[0m\n\u001b[1;32m    306\u001b[0m     \u001b[0mbbs\u001b[0m \u001b[0;34m=\u001b[0m \u001b[0mbb_data\u001b[0m\u001b[0;34m[\u001b[0m\u001b[0;34m:\u001b[0m\u001b[0;34m,\u001b[0m\u001b[0;36m1\u001b[0m\u001b[0;34m:\u001b[0m\u001b[0;34m]\u001b[0m\u001b[0;34m.\u001b[0m\u001b[0mastype\u001b[0m\u001b[0;34m(\u001b[0m\u001b[0mint\u001b[0m\u001b[0;34m)\u001b[0m\u001b[0;34m\u001b[0m\u001b[0m\n",
      "\u001b[0;32m/users/ruthfong/anaconda2/lib/python2.7/site-packages/numpy/lib/npyio.pyc\u001b[0m in \u001b[0;36mloadtxt\u001b[0;34m(fname, dtype, comments, delimiter, converters, skiprows, usecols, unpack, ndmin)\u001b[0m\n\u001b[1;32m    856\u001b[0m                 \u001b[0mfh\u001b[0m \u001b[0;34m=\u001b[0m \u001b[0miter\u001b[0m\u001b[0;34m(\u001b[0m\u001b[0mbz2\u001b[0m\u001b[0;34m.\u001b[0m\u001b[0mBZ2File\u001b[0m\u001b[0;34m(\u001b[0m\u001b[0mfname\u001b[0m\u001b[0;34m)\u001b[0m\u001b[0;34m)\u001b[0m\u001b[0;34m\u001b[0m\u001b[0m\n\u001b[1;32m    857\u001b[0m             \u001b[0;32melif\u001b[0m \u001b[0msys\u001b[0m\u001b[0;34m.\u001b[0m\u001b[0mversion_info\u001b[0m\u001b[0;34m[\u001b[0m\u001b[0;36m0\u001b[0m\u001b[0;34m]\u001b[0m \u001b[0;34m==\u001b[0m \u001b[0;36m2\u001b[0m\u001b[0;34m:\u001b[0m\u001b[0;34m\u001b[0m\u001b[0m\n\u001b[0;32m--> 858\u001b[0;31m                 \u001b[0mfh\u001b[0m \u001b[0;34m=\u001b[0m \u001b[0miter\u001b[0m\u001b[0;34m(\u001b[0m\u001b[0mopen\u001b[0m\u001b[0;34m(\u001b[0m\u001b[0mfname\u001b[0m\u001b[0;34m,\u001b[0m \u001b[0;34m'U'\u001b[0m\u001b[0;34m)\u001b[0m\u001b[0;34m)\u001b[0m\u001b[0;34m\u001b[0m\u001b[0m\n\u001b[0m\u001b[1;32m    859\u001b[0m             \u001b[0;32melse\u001b[0m\u001b[0;34m:\u001b[0m\u001b[0;34m\u001b[0m\u001b[0m\n\u001b[1;32m    860\u001b[0m                 \u001b[0mfh\u001b[0m \u001b[0;34m=\u001b[0m \u001b[0miter\u001b[0m\u001b[0;34m(\u001b[0m\u001b[0mopen\u001b[0m\u001b[0;34m(\u001b[0m\u001b[0mfname\u001b[0m\u001b[0;34m)\u001b[0m\u001b[0;34m)\u001b[0m\u001b[0;34m\u001b[0m\u001b[0m\n",
      "\u001b[0;31mIOError\u001b[0m: [Errno 2] No such file or directory: '/data/ruthfong/neural_coding/loc_preds/googlenet_annotated_train_heldout_gt_pycaffe/grad_cam/grad_cam_mean_alpha_0.05_norm_None.txt'"
     ]
    }
   ],
   "source": [
    "ann_dir = train_ann_dir\n",
    "ann_paths = np.sort([os.path.join(ann_dir, f) for f in os.listdir(ann_dir)])\n",
    "\n",
    "heatmap_types = ['Grad-CAM Energy', 'Grad-CAM Value', 'Grad-CAM Mean']\n",
    "\n",
    "grad_cam_trn_loc_format_energy = '/data/ruthfong/neural_coding/loc_preds/googlenet_annotated_train_heldout_gt_pycaffe/grad_cam/grad_cam_energy_alpha_%.2f_norm_None.txt'\n",
    "grad_cam_trn_loc_format_value = '/data/ruthfong/neural_coding/loc_preds/googlenet_annotated_train_heldout_gt_pycaffe/grad_cam/grad_cam_min_max_diff_alpha_%.2f_norm_None.txt'\n",
    "grad_cam_trn_loc_format_mean = '/data/ruthfong/neural_coding/loc_preds/googlenet_annotated_train_heldout_gt_pycaffe/grad_cam/grad_cam_mean_alpha_%.2f_norm_None.txt'\n",
    "\n",
    "\n",
    "formats = [grad_cam_trn_loc_format_energy, grad_cam_trn_loc_format_value, grad_cam_trn_loc_format_mean]\n",
    "\n",
    "assert (len(formats) == len(heatmap_types))\n",
    "for i in range(len(formats)):\n",
    "    print heatmap_types[i]\n",
    "    if heatmap_types == 'Occ Mean':\n",
    "        alphas = np.arange(0, 10.5, 0.5)\n",
    "        _ = find_best_alpha(formats[i], alphas=alphas)\n",
    "    else:\n",
    "        _ = find_best_alpha(formats[i])\n",
    "    print ''"
   ]
  },
  {
   "cell_type": "code",
   "execution_count": 25,
   "metadata": {
    "collapsed": false
   },
   "outputs": [
    {
     "name": "stdout",
     "output_type": "stream",
     "text": [
      "Grad-CAM Mean\n",
      "alpha = 0.00, err = 0.549800\n",
      "alpha = 0.50, err = 0.541800\n",
      "alpha = 1.00, err = 0.523200\n",
      "alpha = 1.50, err = 0.505800\n",
      "alpha = 2.00, err = 0.524200\n",
      "alpha = 2.50, err = 0.595400\n",
      "alpha = 3.00, err = 0.668600\n",
      "alpha = 3.50, err = 0.720200\n",
      "alpha = 4.00, err = 0.754800\n",
      "alpha = 4.50, err = 0.778200\n",
      "alpha = 5.00, err = 0.793400\n",
      "alpha = 5.50, err = 0.795400\n",
      "alpha = 6.00, err = 0.799400\n",
      "alpha = 6.50, err = 0.799600\n",
      "alpha = 7.00, err = 0.799400\n",
      "alpha = 7.50, err = 0.800600\n",
      "alpha = 8.00, err = 0.798600\n",
      "alpha = 8.50, err = 0.797800\n",
      "alpha = 9.00, err = 0.799000\n",
      "alpha = 9.50, err = 0.798000\n",
      "alpha = 10.00, err = 0.798000\n",
      "best alpha = 1.50, err = 0.505800\n",
      "\n"
     ]
    }
   ],
   "source": [
    "ann_dir = train_ann_dir\n",
    "ann_paths = np.sort([os.path.join(ann_dir, f) for f in os.listdir(ann_dir)])\n",
    "\n",
    "heatmap_types = ['Grad-CAM Mean']\n",
    "\n",
    "grad_cam_trn_loc_format_mean = '/data/ruthfong/neural_coding/loc_preds/googlenet_annotated_train_heldout_gt_pycaffe/grad_cam/grad_cam_mean_alpha_%.2f_norm_None.txt'\n",
    "formats = [grad_cam_trn_loc_format_mean]\n",
    "\n",
    "assert (len(formats) == len(heatmap_types))\n",
    "for i in range(len(formats)):\n",
    "    print heatmap_types[i]\n",
    "    alphas = np.arange(0, 10.5, 0.5)\n",
    "    _ = find_best_alpha(formats[i], alphas=alphas)\n",
    "    print ''"
   ]
  },
  {
   "cell_type": "code",
   "execution_count": 10,
   "metadata": {
    "collapsed": false
   },
   "outputs": [
    {
     "name": "stdout",
     "output_type": "stream",
     "text": [
      "Occ Energy\n",
      "alpha = 0.00, err = 0.790000\n",
      "alpha = 0.05, err = 0.956200\n",
      "alpha = 0.10, err = 0.893400\n",
      "alpha = 0.15, err = 0.819000\n",
      "alpha = 0.20, err = 0.727600\n",
      "alpha = 0.25, err = 0.656800\n",
      "alpha = 0.30, err = 0.589200\n",
      "alpha = 0.35, err = 0.531400\n",
      "alpha = 0.40, err = 0.492800\n",
      "alpha = 0.45, err = 0.470400\n",
      "alpha = 0.50, err = 0.461400\n",
      "alpha = 0.55, err = 0.457800\n",
      "alpha = 0.60, err = 0.468000\n",
      "alpha = 0.65, err = 0.480200\n",
      "alpha = 0.70, err = 0.498800\n",
      "alpha = 0.75, err = 0.519000\n",
      "alpha = 0.80, err = 0.533800\n",
      "alpha = 0.85, err = 0.543200\n",
      "alpha = 0.90, err = 0.551200\n",
      "alpha = 0.95, err = 0.556000\n",
      "best alpha = 0.55, err = 0.457800\n",
      "\n",
      "Occ Value\n",
      "alpha = 0.00, err = 0.556000\n",
      "alpha = 0.05, err = 0.555800\n",
      "alpha = 0.10, err = 0.548000\n",
      "alpha = 0.15, err = 0.525400\n",
      "alpha = 0.20, err = 0.495000\n",
      "alpha = 0.25, err = 0.469000\n",
      "alpha = 0.30, err = 0.466600\n",
      "alpha = 0.35, err = 0.470800\n",
      "alpha = 0.40, err = 0.484200\n",
      "alpha = 0.45, err = 0.509800\n",
      "alpha = 0.50, err = 0.551600\n",
      "alpha = 0.55, err = 0.603400\n",
      "alpha = 0.60, err = 0.661000\n",
      "alpha = 0.65, err = 0.721000\n",
      "alpha = 0.70, err = 0.788000\n",
      "alpha = 0.75, err = 0.859400\n",
      "alpha = 0.80, err = 0.908600\n",
      "alpha = 0.85, err = 0.949400\n",
      "alpha = 0.90, err = 0.976200\n",
      "alpha = 0.95, err = 0.993200\n",
      "best alpha = 0.30, err = 0.466600\n",
      "\n",
      "Occ Mean\n"
     ]
    },
    {
     "ename": "IOError",
     "evalue": "[Errno 2] No such file or directory: '/data/ruthfong/neural_coding/loc_preds/googlenet_annotated_train_heldout_gt_pycaffe/occlusion/mask_mean_alpha_0.05_norm_Inf.txt'",
     "output_type": "error",
     "traceback": [
      "\u001b[0;31m---------------------------------------------------------------------------\u001b[0m",
      "\u001b[0;31mIOError\u001b[0m                                   Traceback (most recent call last)",
      "\u001b[0;32m<ipython-input-10-edc1bbde2835>\u001b[0m in \u001b[0;36m<module>\u001b[0;34m()\u001b[0m\n\u001b[1;32m     15\u001b[0m         \u001b[0m_\u001b[0m \u001b[0;34m=\u001b[0m \u001b[0mfind_best_alpha\u001b[0m\u001b[0;34m(\u001b[0m\u001b[0mformats\u001b[0m\u001b[0;34m[\u001b[0m\u001b[0mi\u001b[0m\u001b[0;34m]\u001b[0m\u001b[0;34m,\u001b[0m \u001b[0malphas\u001b[0m\u001b[0;34m=\u001b[0m\u001b[0malphas\u001b[0m\u001b[0;34m)\u001b[0m\u001b[0;34m\u001b[0m\u001b[0m\n\u001b[1;32m     16\u001b[0m     \u001b[0;32melse\u001b[0m\u001b[0;34m:\u001b[0m\u001b[0;34m\u001b[0m\u001b[0m\n\u001b[0;32m---> 17\u001b[0;31m         \u001b[0m_\u001b[0m \u001b[0;34m=\u001b[0m \u001b[0mfind_best_alpha\u001b[0m\u001b[0;34m(\u001b[0m\u001b[0mformats\u001b[0m\u001b[0;34m[\u001b[0m\u001b[0mi\u001b[0m\u001b[0;34m]\u001b[0m\u001b[0;34m)\u001b[0m\u001b[0;34m\u001b[0m\u001b[0m\n\u001b[0m\u001b[1;32m     18\u001b[0m     \u001b[0;32mprint\u001b[0m \u001b[0;34m''\u001b[0m\u001b[0;34m\u001b[0m\u001b[0m\n",
      "\u001b[0;32m<ipython-input-8-ac97322cf81a>\u001b[0m in \u001b[0;36mfind_best_alpha\u001b[0;34m(bb_file_prefix, alphas)\u001b[0m\n\u001b[1;32m      5\u001b[0m         \u001b[0mbb_file\u001b[0m \u001b[0;34m=\u001b[0m \u001b[0mbb_file_prefix\u001b[0m \u001b[0;34m%\u001b[0m \u001b[0malpha\u001b[0m\u001b[0;34m\u001b[0m\u001b[0m\n\u001b[1;32m      6\u001b[0m         (err, _, _) = compute_localization_results(bb_file, ann_paths, synsets=synsets, \n\u001b[0;32m----> 7\u001b[0;31m                                                    reverse_indexing=reverse_indexing)\n\u001b[0m\u001b[1;32m      8\u001b[0m         \u001b[0merrs\u001b[0m\u001b[0;34m[\u001b[0m\u001b[0mi\u001b[0m\u001b[0;34m]\u001b[0m \u001b[0;34m=\u001b[0m \u001b[0merr\u001b[0m\u001b[0;34m\u001b[0m\u001b[0m\n\u001b[1;32m      9\u001b[0m     \u001b[0;32mfor\u001b[0m \u001b[0mi\u001b[0m \u001b[0;32min\u001b[0m \u001b[0mrange\u001b[0m\u001b[0;34m(\u001b[0m\u001b[0mlen\u001b[0m\u001b[0;34m(\u001b[0m\u001b[0malphas\u001b[0m\u001b[0;34m)\u001b[0m\u001b[0;34m)\u001b[0m\u001b[0;34m:\u001b[0m\u001b[0;34m\u001b[0m\u001b[0m\n",
      "\u001b[0;32m/users/ruthfong/neural_coding/code/caffe/python/helpers.pyc\u001b[0m in \u001b[0;36mcompute_localization_results\u001b[0;34m(bb_file, ann_paths, verbose, synsets, reverse_indexing)\u001b[0m\n\u001b[1;32m    302\u001b[0m     \u001b[0;32mif\u001b[0m \u001b[0mverbose\u001b[0m\u001b[0;34m:\u001b[0m\u001b[0;34m\u001b[0m\u001b[0m\n\u001b[1;32m    303\u001b[0m         \u001b[0;32mprint\u001b[0m \u001b[0;34m'Loading bounding boxes from'\u001b[0m\u001b[0;34m,\u001b[0m \u001b[0mbb_file\u001b[0m\u001b[0;34m\u001b[0m\u001b[0m\n\u001b[0;32m--> 304\u001b[0;31m     \u001b[0mbb_data\u001b[0m \u001b[0;34m=\u001b[0m \u001b[0mnp\u001b[0m\u001b[0;34m.\u001b[0m\u001b[0mloadtxt\u001b[0m\u001b[0;34m(\u001b[0m\u001b[0mbb_file\u001b[0m\u001b[0;34m)\u001b[0m\u001b[0;34m\u001b[0m\u001b[0m\n\u001b[0m\u001b[1;32m    305\u001b[0m     \u001b[0mbb_labels\u001b[0m \u001b[0;34m=\u001b[0m \u001b[0mbb_data\u001b[0m\u001b[0;34m[\u001b[0m\u001b[0;34m:\u001b[0m\u001b[0;34m,\u001b[0m\u001b[0;36m0\u001b[0m\u001b[0;34m]\u001b[0m\u001b[0;34m.\u001b[0m\u001b[0mastype\u001b[0m\u001b[0;34m(\u001b[0m\u001b[0mint\u001b[0m\u001b[0;34m)\u001b[0m\u001b[0;34m\u001b[0m\u001b[0m\n\u001b[1;32m    306\u001b[0m     \u001b[0mbbs\u001b[0m \u001b[0;34m=\u001b[0m \u001b[0mbb_data\u001b[0m\u001b[0;34m[\u001b[0m\u001b[0;34m:\u001b[0m\u001b[0;34m,\u001b[0m\u001b[0;36m1\u001b[0m\u001b[0;34m:\u001b[0m\u001b[0;34m]\u001b[0m\u001b[0;34m.\u001b[0m\u001b[0mastype\u001b[0m\u001b[0;34m(\u001b[0m\u001b[0mint\u001b[0m\u001b[0;34m)\u001b[0m\u001b[0;34m\u001b[0m\u001b[0m\n",
      "\u001b[0;32m/users/ruthfong/anaconda2/lib/python2.7/site-packages/numpy/lib/npyio.pyc\u001b[0m in \u001b[0;36mloadtxt\u001b[0;34m(fname, dtype, comments, delimiter, converters, skiprows, usecols, unpack, ndmin)\u001b[0m\n\u001b[1;32m    856\u001b[0m                 \u001b[0mfh\u001b[0m \u001b[0;34m=\u001b[0m \u001b[0miter\u001b[0m\u001b[0;34m(\u001b[0m\u001b[0mbz2\u001b[0m\u001b[0;34m.\u001b[0m\u001b[0mBZ2File\u001b[0m\u001b[0;34m(\u001b[0m\u001b[0mfname\u001b[0m\u001b[0;34m)\u001b[0m\u001b[0;34m)\u001b[0m\u001b[0;34m\u001b[0m\u001b[0m\n\u001b[1;32m    857\u001b[0m             \u001b[0;32melif\u001b[0m \u001b[0msys\u001b[0m\u001b[0;34m.\u001b[0m\u001b[0mversion_info\u001b[0m\u001b[0;34m[\u001b[0m\u001b[0;36m0\u001b[0m\u001b[0;34m]\u001b[0m \u001b[0;34m==\u001b[0m \u001b[0;36m2\u001b[0m\u001b[0;34m:\u001b[0m\u001b[0;34m\u001b[0m\u001b[0m\n\u001b[0;32m--> 858\u001b[0;31m                 \u001b[0mfh\u001b[0m \u001b[0;34m=\u001b[0m \u001b[0miter\u001b[0m\u001b[0;34m(\u001b[0m\u001b[0mopen\u001b[0m\u001b[0;34m(\u001b[0m\u001b[0mfname\u001b[0m\u001b[0;34m,\u001b[0m \u001b[0;34m'U'\u001b[0m\u001b[0;34m)\u001b[0m\u001b[0;34m)\u001b[0m\u001b[0;34m\u001b[0m\u001b[0m\n\u001b[0m\u001b[1;32m    859\u001b[0m             \u001b[0;32melse\u001b[0m\u001b[0;34m:\u001b[0m\u001b[0;34m\u001b[0m\u001b[0m\n\u001b[1;32m    860\u001b[0m                 \u001b[0mfh\u001b[0m \u001b[0;34m=\u001b[0m \u001b[0miter\u001b[0m\u001b[0;34m(\u001b[0m\u001b[0mopen\u001b[0m\u001b[0;34m(\u001b[0m\u001b[0mfname\u001b[0m\u001b[0;34m)\u001b[0m\u001b[0;34m)\u001b[0m\u001b[0;34m\u001b[0m\u001b[0m\n",
      "\u001b[0;31mIOError\u001b[0m: [Errno 2] No such file or directory: '/data/ruthfong/neural_coding/loc_preds/googlenet_annotated_train_heldout_gt_pycaffe/occlusion/mask_mean_alpha_0.05_norm_Inf.txt'"
     ]
    }
   ],
   "source": [
    "ann_dir = train_ann_dir\n",
    "ann_paths = np.sort([os.path.join(ann_dir, f) for f in os.listdir(ann_dir)])\n",
    "\n",
    "heatmap_types = ['Occ Energy', 'Occ Value', 'Occ Mean']\n",
    "occ_trn_loc_format_energy = '/data/ruthfong/neural_coding/loc_preds/googlenet_annotated_train_heldout_gt_pycaffe/occlusion/mask_energy_alpha_%.2f_norm_Inf.txt'\n",
    "occ_trn_loc_format_value = '/data/ruthfong/neural_coding/loc_preds/googlenet_annotated_train_heldout_gt_pycaffe/occlusion/mask_min_max_diff_alpha_%.2f_norm_Inf.txt'\n",
    "occ_trn_loc_format_mean = '/data/ruthfong/neural_coding/loc_preds/googlenet_annotated_train_heldout_gt_pycaffe/occlusion/mask_mean_alpha_%.2f_norm_Inf.txt'\n",
    "formats = [occ_trn_loc_format_energy, occ_trn_loc_format_value, occ_trn_loc_format_mean]\n",
    "\n",
    "assert (len(formats) == len(heatmap_types))\n",
    "for i in range(len(formats)):\n",
    "    print heatmap_types[i]\n",
    "    if heatmap_types == 'Occ Mean':\n",
    "        alphas = np.arange(0, 10.5, 0.5)\n",
    "        _ = find_best_alpha(formats[i], alphas=alphas)\n",
    "    else:\n",
    "        _ = find_best_alpha(formats[i])\n",
    "    print ''"
   ]
  },
  {
   "cell_type": "code",
   "execution_count": 12,
   "metadata": {
    "collapsed": false
   },
   "outputs": [
    {
     "name": "stdout",
     "output_type": "stream",
     "text": [
      "Occ Mean\n",
      "alpha = 0.00, err = 0.556000\n",
      "alpha = 0.50, err = 0.553400\n",
      "alpha = 1.00, err = 0.448000\n",
      "alpha = 1.50, err = 0.584200\n",
      "alpha = 2.00, err = 0.807000\n",
      "alpha = 2.50, err = 0.839800\n",
      "alpha = 3.00, err = 0.830000\n",
      "alpha = 3.50, err = 0.817800\n",
      "alpha = 4.00, err = 0.809000\n",
      "alpha = 4.50, err = 0.802200\n",
      "alpha = 5.00, err = 0.796600\n",
      "alpha = 5.50, err = 0.793000\n",
      "alpha = 6.00, err = 0.792600\n",
      "alpha = 6.50, err = 0.791200\n",
      "alpha = 7.00, err = 0.790400\n",
      "alpha = 7.50, err = 0.790600\n",
      "alpha = 8.00, err = 0.790200\n",
      "alpha = 8.50, err = 0.790200\n",
      "alpha = 9.00, err = 0.790200\n",
      "alpha = 9.50, err = 0.790000\n",
      "alpha = 10.00, err = 0.790000\n",
      "best alpha = 1.00, err = 0.448000\n",
      "\n"
     ]
    }
   ],
   "source": [
    "ann_dir = train_ann_dir\n",
    "ann_paths = np.sort([os.path.join(ann_dir, f) for f in os.listdir(ann_dir)])\n",
    "\n",
    "heatmap_types = ['Occ Mean']\n",
    "occ_trn_loc_format_mean = '/data/ruthfong/neural_coding/loc_preds/googlenet_annotated_train_heldout_gt_pycaffe/occlusion/mask_mean_alpha_%.2f_norm_Inf.txt'\n",
    "formats = [occ_trn_loc_format_mean]\n",
    "\n",
    "assert (len(formats) == len(heatmap_types))\n",
    "for i in range(len(formats)):\n",
    "    print heatmap_types[i]\n",
    "    alphas = np.arange(0, 10.5, 0.5)\n",
    "    _ = find_best_alpha(formats[i], alphas=alphas)\n",
    "    print ''"
   ]
  },
  {
   "cell_type": "markdown",
   "metadata": {},
   "source": [
    "# Energy-Alpha\n",
    "\n",
    "## Finding Best Alpha (optional)"
   ]
  },
  {
   "cell_type": "code",
   "execution_count": 16,
   "metadata": {
    "collapsed": false,
    "scrolled": true
   },
   "outputs": [
    {
     "name": "stdout",
     "output_type": "stream",
     "text": [
      "Mask\n",
      "alpha = 0.00, err = 0.790000\n",
      "alpha = 0.05, err = 0.912600\n",
      "alpha = 0.10, err = 0.861800\n",
      "alpha = 0.15, err = 0.822400\n",
      "alpha = 0.20, err = 0.785400\n",
      "alpha = 0.25, err = 0.750000\n",
      "alpha = 0.30, err = 0.722400\n",
      "alpha = 0.35, err = 0.693800\n",
      "alpha = 0.40, err = 0.671000\n",
      "alpha = 0.45, err = 0.638200\n",
      "alpha = 0.50, err = 0.610800\n",
      "alpha = 0.55, err = 0.586800\n",
      "alpha = 0.60, err = 0.558800\n",
      "alpha = 0.65, err = 0.528800\n",
      "alpha = 0.70, err = 0.494800\n",
      "alpha = 0.75, err = 0.470400\n",
      "alpha = 0.80, err = 0.442600\n",
      "alpha = 0.85, err = 0.417200\n",
      "alpha = 0.90, err = 0.396000\n",
      "alpha = 0.95, err = 0.391200\n",
      "best alpha = 0.95, err = 0.391200\n",
      "Gradient\n",
      "alpha = 0.00, err = 0.790000\n",
      "alpha = 0.05, err = 0.458000\n",
      "alpha = 0.10, err = 0.402600\n",
      "alpha = 0.15, err = 0.405600\n",
      "alpha = 0.20, err = 0.419200\n",
      "alpha = 0.25, err = 0.438200\n",
      "alpha = 0.30, err = 0.452000\n",
      "alpha = 0.35, err = 0.465600\n",
      "alpha = 0.40, err = 0.479000\n",
      "alpha = 0.45, err = 0.495200\n",
      "alpha = 0.50, err = 0.507200\n",
      "alpha = 0.55, err = 0.518600\n",
      "alpha = 0.60, err = 0.526600\n",
      "alpha = 0.65, err = 0.533600\n",
      "alpha = 0.70, err = 0.539800\n",
      "alpha = 0.75, err = 0.544800\n",
      "alpha = 0.80, err = 0.548000\n",
      "alpha = 0.85, err = 0.551600\n",
      "alpha = 0.90, err = 0.553600\n",
      "alpha = 0.95, err = 0.555600\n",
      "best alpha = 0.10, err = 0.402600\n",
      "Guided Backprop\n",
      "alpha = 0.00, err = 0.790000\n",
      "alpha = 0.05, err = 0.575400\n",
      "alpha = 0.10, err = 0.499200\n",
      "alpha = 0.15, err = 0.456800\n",
      "alpha = 0.20, err = 0.441400\n",
      "alpha = 0.25, err = 0.432600\n",
      "alpha = 0.30, err = 0.421600\n",
      "alpha = 0.35, err = 0.426600\n",
      "alpha = 0.40, err = 0.429200\n",
      "alpha = 0.45, err = 0.431600\n",
      "alpha = 0.50, err = 0.439400\n",
      "alpha = 0.55, err = 0.449400\n",
      "alpha = 0.60, err = 0.464800\n",
      "alpha = 0.65, err = 0.479600\n",
      "alpha = 0.70, err = 0.496400\n",
      "alpha = 0.75, err = 0.511400\n",
      "alpha = 0.80, err = 0.524600\n",
      "alpha = 0.85, err = 0.536800\n",
      "alpha = 0.90, err = 0.545400\n",
      "alpha = 0.95, err = 0.553000\n",
      "best alpha = 0.30, err = 0.421600\n",
      "Excitation Backprop\n",
      "alpha = 0.00, err = 0.790000\n",
      "alpha = 0.05, err = 0.896000\n",
      "alpha = 0.10, err = 0.751400\n",
      "alpha = 0.15, err = 0.647200\n",
      "alpha = 0.20, err = 0.570800\n",
      "alpha = 0.25, err = 0.511600\n",
      "alpha = 0.30, err = 0.466400\n",
      "alpha = 0.35, err = 0.429800\n",
      "alpha = 0.40, err = 0.395200\n",
      "alpha = 0.45, err = 0.372400\n",
      "alpha = 0.50, err = 0.360000\n",
      "alpha = 0.55, err = 0.352400\n",
      "alpha = 0.60, err = 0.350600\n",
      "alpha = 0.65, err = 0.360400\n",
      "alpha = 0.70, err = 0.378600\n",
      "alpha = 0.75, err = 0.403800\n",
      "alpha = 0.80, err = 0.441400\n",
      "alpha = 0.85, err = 0.484400\n",
      "alpha = 0.90, err = 0.523000\n",
      "alpha = 0.95, err = 0.552000\n",
      "best alpha = 0.60, err = 0.350600\n"
     ]
    }
   ],
   "source": [
    "ann_dir = train_ann_dir\n",
    "ann_paths = np.sort([os.path.join(ann_dir, f) for f in os.listdir(ann_dir)])\n",
    "\n",
    "heatmap_types = ['Mask', 'Gradient', 'Guided Backprop', 'Excitation Backprop']\n",
    "mask_trn_loc_format = '/data/ruthfong/neural_coding/loc_preds/googlenet_annotated_train_heldout_gt_pycaffe/googlenet_train_heldout_given_grad_1_norm_0/min_top5_prob_blur/lr_-1.00_l1_lambda_-3.00_tv_lambda_-inf_l1_lambda_2_-2.00_beta_2.00_mask_scale_8_blur_mask_5_jitter_4_noise_-inf_num_iters_300_tv2_mask_init/energy_alpha_%.2f_norm_Inf.txt'\n",
    "gradient_trn_loc_format = '/data/ruthfong/neural_coding/loc_preds/googlenet_annotated_train_heldout_gt_pycaffe/saliency/energy_alpha_%.2f_norm_Inf.txt'\n",
    "guided_trn_loc_format = '/data/ruthfong/neural_coding/loc_preds/googlenet_annotated_train_heldout_gt_pycaffe/guided_backprop/energy_alpha_%.2f_norm_Inf.txt'\n",
    "exc_trn_loc_format = '/data/ruthfong/neural_coding/loc_preds/googlenet_annotated_train_heldout_gt_pycaffe/excitation_backprop/energy_alpha_%.2f_norm_-1.txt'\n",
    "formats = [mask_trn_loc_format, gradient_trn_loc_format, guided_trn_loc_format, exc_trn_loc_format]\n",
    "\n",
    "assert (len(formats) == len(heatmap_types))\n",
    "for i in range(len(formats)):\n",
    "    print heatmap_types[i]\n",
    "    _ = find_best_alpha(formats[i])\n",
    "    print ''"
   ]
  },
  {
   "cell_type": "code",
   "execution_count": null,
   "metadata": {
    "collapsed": true
   },
   "outputs": [],
   "source": [
    "ann_dir = train_ann_dir\n",
    "ann_paths = np.sort([os.path.join(ann_dir, f) for f in os.listdir(ann_dir)])\n",
    "\n",
    "heatmap_types = ['Occlusion']\n",
    "occlusion_trn_loc_format = '/data/ruthfong/neural_coding/loc_preds/googlenet_annotated_train_heldout_gt_pycaffe/occlusion/energy_alpha_%.2f_norm_Inf.txt'\n",
    "formats = [occlusion_trn_loc_format]\n",
    "\n",
    "assert (len(formats) == len(heatmap_types))\n",
    "for i in range(len(formats)):\n",
    "    print heatmap_types[i]\n",
    "    _ = find_best_alpha(formats[i])\n",
    "    print ''"
   ]
  },
  {
   "cell_type": "markdown",
   "metadata": {},
   "source": [
    "## Testing energy-alpha on validation set"
   ]
  },
  {
   "cell_type": "code",
   "execution_count": 26,
   "metadata": {
    "collapsed": true
   },
   "outputs": [],
   "source": [
    "ann_dir = val_ann_dir\n",
    "ann_paths = np.sort([os.path.join(ann_dir, f) for f in os.listdir(ann_dir)])"
   ]
  },
  {
   "cell_type": "code",
   "execution_count": 27,
   "metadata": {
    "collapsed": false
   },
   "outputs": [
    {
     "name": "stdout",
     "output_type": "stream",
     "text": [
      "grad_cam 0.538849040176\n"
     ]
    }
   ],
   "source": [
    "bb_file = '/data/ruthfong/neural_coding/results_reb/grad_cam_val_bbs_energy.txt'\n",
    "(err, _, _) = compute_localization_results(bb_file, ann_paths, synsets=synsets,\n",
    "                             reverse_indexing=reverse_indexing)\n",
    "print 'grad_cam', err"
   ]
  },
  {
   "cell_type": "code",
   "execution_count": 19,
   "metadata": {
    "collapsed": false
   },
   "outputs": [
    {
     "name": "stdout",
     "output_type": "stream",
     "text": [
      "occlusion 0.493863758862\n"
     ]
    }
   ],
   "source": [
    "bb_file = '/data/ruthfong/neural_coding/results_reb/occlusion_val_bbs_energy.txt'\n",
    "(err, _, _) = compute_localization_results(bb_file, ann_paths, synsets=synsets,\n",
    "                             reverse_indexing=reverse_indexing)\n",
    "print 'occlusion', err"
   ]
  },
  {
   "cell_type": "code",
   "execution_count": 60,
   "metadata": {
    "collapsed": false
   },
   "outputs": [
    {
     "name": "stderr",
     "output_type": "stream",
     "text": [
      "[autoreload of optimize_mask failed: Traceback (most recent call last):\n",
      "  File \"/home/ruthfong/anaconda2/lib/python2.7/site-packages/IPython/extensions/autoreload.py\", line 247, in check\n",
      "    superreload(m, reload, self.old_objects)\n",
      "  File \"optimize_mask.py\", line 38\n",
      "    if mask_path is not None and os.path.exists(mask_path):\n",
      "    ^\n",
      "IndentationError: unexpected indent\n",
      "]\n"
     ]
    },
    {
     "name": "stdout",
     "output_type": "stream",
     "text": [
      "mask 0.431464820266\n"
     ]
    }
   ],
   "source": [
    "# TODO - change to output file from heatmaps.py\n",
    "bb_file = '/data/ruthfong/neural_coding/loc_preds/googlenet_val_gt_pycaffe/googlenet_val_given_grad_1_norm_0/min_top5_prob_blur/lr_-1.00_l1_lambda_-3.00_tv_lambda_-inf_l1_lambda_2_-2.00_beta_2.00_mask_scale_8_blur_mask_5_jitter_4_noise_-inf_num_iters_300_tv2_mask_init/energy_alpha_0.95_norm_Inf.txt'\n",
    "(err, _, _) = compute_localization_results(bb_file, ann_paths, synsets=synsets,\n",
    "                             reverse_indexing=reverse_indexing)\n",
    "print 'mask', err"
   ]
  },
  {
   "cell_type": "code",
   "execution_count": 61,
   "metadata": {
    "collapsed": false
   },
   "outputs": [
    {
     "name": "stdout",
     "output_type": "stream",
     "text": [
      "gradient 0.439052199511\n"
     ]
    }
   ],
   "source": [
    "bb_file = '/data/ruthfong/neural_coding/loc_preds/googlenet_val_gt_pycaffe/saliency/energy_alpha_0.10_norm_Inf.txt'\n",
    "(err, _, _) = compute_localization_results(bb_file, ann_paths, synsets=synsets,\n",
    "                             reverse_indexing=reverse_indexing)\n",
    "print 'gradient', err"
   ]
  },
  {
   "cell_type": "code",
   "execution_count": 62,
   "metadata": {
    "collapsed": false
   },
   "outputs": [
    {
     "name": "stdout",
     "output_type": "stream",
     "text": [
      "guided_backprop 0.46969194411\n"
     ]
    }
   ],
   "source": [
    "bb_file = '/data/ruthfong/neural_coding/loc_preds/googlenet_val_gt_pycaffe/guided_backprop/energy_alpha_0.30_norm_Inf.txt'\n",
    "(err, _, _) = compute_localization_results(bb_file, ann_paths, synsets=synsets,\n",
    "                             reverse_indexing=reverse_indexing)\n",
    "print 'guided_backprop', err"
   ]
  },
  {
   "cell_type": "code",
   "execution_count": 63,
   "metadata": {
    "collapsed": false
   },
   "outputs": [
    {
     "name": "stdout",
     "output_type": "stream",
     "text": [
      "excitation_backprop 0.38708072474\n"
     ]
    }
   ],
   "source": [
    "bb_file = '/data/ruthfong/neural_coding/loc_preds/googlenet_val_gt_pycaffe/excitation_backprop/energy_alpha_0.60_norm_-1.txt'\n",
    "(err, _, _) = compute_localization_results(bb_file, ann_paths, synsets=synsets,\n",
    "                             reverse_indexing=reverse_indexing)\n",
    "print 'excitation_backprop', err"
   ]
  },
  {
   "cell_type": "markdown",
   "metadata": {},
   "source": [
    "# Value-Alpha\n",
    "## Finding Best Alpha (optional)"
   ]
  },
  {
   "cell_type": "code",
   "execution_count": 17,
   "metadata": {
    "collapsed": false,
    "scrolled": true
   },
   "outputs": [
    {
     "name": "stdout",
     "output_type": "stream",
     "text": [
      "Mask\n",
      "alpha = 0.00, err = 0.553000\n",
      "alpha = 0.05, err = 0.419400\n",
      "alpha = 0.10, err = 0.402400\n",
      "alpha = 0.15, err = 0.406000\n",
      "alpha = 0.20, err = 0.408600\n",
      "alpha = 0.25, err = 0.424000\n",
      "alpha = 0.30, err = 0.440800\n",
      "alpha = 0.35, err = 0.465000\n",
      "alpha = 0.40, err = 0.481600\n",
      "alpha = 0.45, err = 0.506400\n",
      "alpha = 0.50, err = 0.528200\n",
      "alpha = 0.55, err = 0.554600\n",
      "alpha = 0.60, err = 0.583000\n",
      "alpha = 0.65, err = 0.606000\n",
      "alpha = 0.70, err = 0.635800\n",
      "alpha = 0.75, err = 0.666200\n",
      "alpha = 0.80, err = 0.703600\n",
      "alpha = 0.85, err = 0.743600\n",
      "alpha = 0.90, err = 0.795800\n",
      "alpha = 0.95, err = 0.877800\n",
      "best alpha = 0.10, err = 0.402400\n",
      "\n",
      "Gradient\n",
      "alpha = 0.00, err = 0.556200\n",
      "alpha = 0.05, err = 0.533400\n",
      "alpha = 0.10, err = 0.481400\n",
      "alpha = 0.15, err = 0.437000\n",
      "alpha = 0.20, err = 0.424000\n",
      "alpha = 0.25, err = 0.423400\n",
      "alpha = 0.30, err = 0.463200\n",
      "alpha = 0.35, err = 0.514600\n",
      "alpha = 0.40, err = 0.583600\n",
      "alpha = 0.45, err = 0.652800\n",
      "alpha = 0.50, err = 0.723200\n",
      "alpha = 0.55, err = 0.787800\n",
      "alpha = 0.60, err = 0.846200\n",
      "alpha = 0.65, err = 0.893800\n",
      "alpha = 0.70, err = 0.927800\n",
      "alpha = 0.75, err = 0.952000\n",
      "alpha = 0.80, err = 0.974200\n",
      "alpha = 0.85, err = 0.985600\n",
      "alpha = 0.90, err = 0.993400\n",
      "alpha = 0.95, err = 0.998400\n",
      "best alpha = 0.25, err = 0.423400\n",
      "\n",
      "Guided Backprop\n",
      "alpha = 0.00, err = 0.556000\n",
      "alpha = 0.05, err = 0.470800\n",
      "alpha = 0.10, err = 0.472200\n",
      "alpha = 0.15, err = 0.485800\n",
      "alpha = 0.20, err = 0.509200\n",
      "alpha = 0.25, err = 0.542400\n",
      "alpha = 0.30, err = 0.586800\n",
      "alpha = 0.35, err = 0.636400\n",
      "alpha = 0.40, err = 0.691400\n",
      "alpha = 0.45, err = 0.746600\n",
      "alpha = 0.50, err = 0.797800\n",
      "alpha = 0.55, err = 0.839800\n",
      "alpha = 0.60, err = 0.876200\n",
      "alpha = 0.65, err = 0.913800\n",
      "alpha = 0.70, err = 0.942800\n",
      "alpha = 0.75, err = 0.962800\n",
      "alpha = 0.80, err = 0.979000\n",
      "alpha = 0.85, err = 0.987000\n",
      "alpha = 0.90, err = 0.994600\n",
      "alpha = 0.95, err = 0.998000\n",
      "best alpha = 0.05, err = 0.470800\n",
      "\n",
      "Excitation Backprop\n",
      "alpha = 0.00, err = 0.556200\n",
      "alpha = 0.05, err = 0.494400\n",
      "alpha = 0.10, err = 0.432200\n",
      "alpha = 0.15, err = 0.412400\n",
      "alpha = 0.20, err = 0.420400\n",
      "alpha = 0.25, err = 0.441200\n",
      "alpha = 0.30, err = 0.473800\n",
      "alpha = 0.35, err = 0.510800\n",
      "alpha = 0.40, err = 0.554200\n",
      "alpha = 0.45, err = 0.618600\n",
      "alpha = 0.50, err = 0.678200\n",
      "alpha = 0.55, err = 0.734200\n",
      "alpha = 0.60, err = 0.797800\n",
      "alpha = 0.65, err = 0.851600\n",
      "alpha = 0.70, err = 0.894600\n",
      "alpha = 0.75, err = 0.925400\n",
      "alpha = 0.80, err = 0.955400\n",
      "alpha = 0.85, err = 0.976400\n",
      "alpha = 0.90, err = 0.988600\n",
      "alpha = 0.95, err = 0.995600\n",
      "best alpha = 0.15, err = 0.412400\n",
      "\n"
     ]
    }
   ],
   "source": [
    "ann_dir = train_ann_dir\n",
    "ann_paths = np.sort([os.path.join(ann_dir, f) for f in os.listdir(ann_dir)])\n",
    "\n",
    "heatmap_types = ['Mask', 'Gradient', 'Guided Backprop', 'Excitation Backprop']\n",
    "mask_trn_loc_format = '/data/ruthfong/neural_coding/loc_preds/googlenet_annotated_train_heldout_gt_pycaffe/googlenet_train_heldout_given_grad_1_norm_0/min_top5_prob_blur/lr_-1.00_l1_lambda_-3.00_tv_lambda_-inf_l1_lambda_2_-2.00_beta_2.00_mask_scale_8_blur_mask_5_jitter_4_noise_-inf_num_iters_300_tv2_mask_init/min_max_diff_alpha_%.2f_norm_Inf.txt'\n",
    "gradient_trn_loc_format = '/data/ruthfong/neural_coding/loc_preds/googlenet_annotated_train_heldout_gt_pycaffe/saliency/min_max_diff_alpha_%.2f_norm_Inf.txt'\n",
    "guided_trn_loc_format = '/data/ruthfong/neural_coding/loc_preds/googlenet_annotated_train_heldout_gt_pycaffe/guided_backprop/min_max_diff_alpha_%.2f_norm_Inf.txt'\n",
    "exc_trn_loc_format = '/data/ruthfong/neural_coding/loc_preds/googlenet_annotated_train_heldout_gt_pycaffe/excitation_backprop/min_max_diff_alpha_%.2f_norm_-1.txt'\n",
    "formats = [mask_trn_loc_format, gradient_trn_loc_format, guided_trn_loc_format, exc_trn_loc_format]\n",
    "\n",
    "assert (len(formats) == len(heatmap_types))\n",
    "for i in range(len(formats)):\n",
    "    print heatmap_types[i]\n",
    "    _ = find_best_alpha(formats[i])\n",
    "    print ''"
   ]
  },
  {
   "cell_type": "markdown",
   "metadata": {},
   "source": [
    "## Testing value-alpha on validation set"
   ]
  },
  {
   "cell_type": "code",
   "execution_count": 20,
   "metadata": {
    "collapsed": true
   },
   "outputs": [],
   "source": [
    "ann_dir = val_ann_dir\n",
    "ann_paths = np.sort([os.path.join(ann_dir, f) for f in os.listdir(ann_dir)])"
   ]
  },
  {
   "cell_type": "code",
   "execution_count": 28,
   "metadata": {
    "collapsed": false
   },
   "outputs": [
    {
     "name": "stdout",
     "output_type": "stream",
     "text": [
      "grad_cam 0.530328786434\n"
     ]
    }
   ],
   "source": [
    "bb_file = '/data/ruthfong/neural_coding/results_reb/grad_cam_val_bbs_min_max_diff.txt'\n",
    "(err, _, _) = compute_localization_results(bb_file, ann_paths, synsets=synsets,\n",
    "                             reverse_indexing=reverse_indexing)\n",
    "print 'grad_cam', err"
   ]
  },
  {
   "cell_type": "code",
   "execution_count": 21,
   "metadata": {
    "collapsed": false
   },
   "outputs": [
    {
     "name": "stdout",
     "output_type": "stream",
     "text": [
      "occlusion 0.511546913222\n"
     ]
    }
   ],
   "source": [
    "bb_file = '/data/ruthfong/neural_coding/results_reb/occlusion_val_bbs_min_max_diff.txt'\n",
    "(err, _, _) = compute_localization_results(bb_file, ann_paths, synsets=synsets,\n",
    "                             reverse_indexing=reverse_indexing)\n",
    "print 'occlusion', err"
   ]
  },
  {
   "cell_type": "code",
   "execution_count": 56,
   "metadata": {
    "collapsed": false
   },
   "outputs": [
    {
     "name": "stdout",
     "output_type": "stream",
     "text": [
      "mask 0.440150918363\n"
     ]
    }
   ],
   "source": [
    "bb_file = '/data/ruthfong/neural_coding/loc_preds/googlenet_val_gt_pycaffe/googlenet_val_given_grad_1_norm_0/min_top5_prob_blur/lr_-1.00_l1_lambda_-3.00_tv_lambda_-inf_l1_lambda_2_-2.00_beta_2.00_mask_scale_8_blur_mask_5_jitter_4_noise_-inf_num_iters_300_tv2_mask_init/min_max_diff_alpha_0.10_norm_Inf.txt'\n",
    "(err, _, _) = compute_localization_results(bb_file, ann_paths, synsets=synsets,\n",
    "                             reverse_indexing=reverse_indexing)\n",
    "print 'mask', err"
   ]
  },
  {
   "cell_type": "code",
   "execution_count": 57,
   "metadata": {
    "collapsed": false
   },
   "outputs": [
    {
     "name": "stdout",
     "output_type": "stream",
     "text": [
      "gradient 0.460425390771\n"
     ]
    }
   ],
   "source": [
    "bb_file = '/data/ruthfong/neural_coding/loc_preds/googlenet_val_gt_pycaffe/saliency/min_max_diff_alpha_0.25_norm_Inf.txt'\n",
    "(err, _, _) = compute_localization_results(bb_file, ann_paths, synsets=synsets,\n",
    "                             reverse_indexing=reverse_indexing)\n",
    "print 'gradient', err"
   ]
  },
  {
   "cell_type": "code",
   "execution_count": 58,
   "metadata": {
    "collapsed": false
   },
   "outputs": [
    {
     "name": "stdout",
     "output_type": "stream",
     "text": [
      "guided_backprop 0.501886479539\n"
     ]
    }
   ],
   "source": [
    "bb_file = '/data/ruthfong/neural_coding/loc_preds/googlenet_val_gt_pycaffe/guided_backprop/min_max_diff_alpha_0.05_norm_Inf.txt'\n",
    "(err, _, _) = compute_localization_results(bb_file, ann_paths, synsets=synsets,\n",
    "                             reverse_indexing=reverse_indexing)\n",
    "print 'guided_backprop', err"
   ]
  },
  {
   "cell_type": "code",
   "execution_count": 59,
   "metadata": {
    "collapsed": false
   },
   "outputs": [
    {
     "name": "stdout",
     "output_type": "stream",
     "text": [
      "excitation_backprop 0.460881462747\n"
     ]
    }
   ],
   "source": [
    "bb_file = '/data/ruthfong/neural_coding/loc_preds/googlenet_val_gt_pycaffe/excitation_backprop/min_max_diff_alpha_0.15_norm_-1.txt'\n",
    "(err, _, _) = compute_localization_results(bb_file, ann_paths, synsets=synsets,\n",
    "                             reverse_indexing=reverse_indexing)\n",
    "print 'excitation_backprop', err"
   ]
  },
  {
   "cell_type": "markdown",
   "metadata": {
    "collapsed": true
   },
   "source": [
    "# Mean Alpha\n",
    "## Finding Best Alpha (optional)"
   ]
  },
  {
   "cell_type": "code",
   "execution_count": null,
   "metadata": {
    "collapsed": false,
    "scrolled": true
   },
   "outputs": [],
   "source": [
    "ann_dir = train_ann_dir\n",
    "ann_paths = np.sort([os.path.join(ann_dir, f) for f in os.listdir(ann_dir)])\n",
    "\n",
    "alphas = np.arange(0, 10.5, 0.5)\n",
    "heatmap_types = ['Mask', 'Gradient', 'Guided Backprop', 'Excitation Backprop']\n",
    "mask_trn_loc_format = '/data/ruthfong/neural_coding/loc_preds/googlenet_annotated_train_heldout_gt_pycaffe/googlenet_train_heldout_given_grad_1_norm_0/min_top5_prob_blur/lr_-1.00_l1_lambda_-3.00_tv_lambda_-inf_l1_lambda_2_-2.00_beta_2.00_mask_scale_8_blur_mask_5_jitter_4_noise_-inf_num_iters_300_tv2_mask_init/alpha_%.1f_norm_Inf.txt'\n",
    "gradient_trn_loc_format = '/data/ruthfong/neural_coding/loc_preds/googlenet_annotated_train_heldout_gt_pycaffe/saliency/alpha_%.1f_norm_Inf.txt'\n",
    "guided_trn_loc_format = '/data/ruthfong/neural_coding/loc_preds/googlenet_annotated_train_heldout_gt_pycaffe/guided_backprop/alpha_%.1f_norm_Inf.txt'\n",
    "exc_trn_loc_format = '/data/ruthfong/neural_coding/loc_preds/googlenet_annotated_train_heldout_gt_pycaffe/excitation_backprop/alpha_%.1f_norm_-1.txt'\n",
    "formats = [mask_trn_loc_format, gradient_trn_loc_format, guided_trn_loc_format, exc_trn_loc_format]\n",
    "\n",
    "assert (len(formats) == len(heatmap_types))\n",
    "for i in range(len(formats)):\n",
    "    print heatmap_types[i]\n",
    "    _ = find_best_alpha(formats[i], alphas = alphas)\n",
    "    print ''"
   ]
  },
  {
   "cell_type": "markdown",
   "metadata": {},
   "source": [
    "## Testing mean-alpha on validation set"
   ]
  },
  {
   "cell_type": "code",
   "execution_count": 22,
   "metadata": {
    "collapsed": true
   },
   "outputs": [],
   "source": [
    "ann_dir = val_ann_dir\n",
    "ann_paths = np.sort([os.path.join(ann_dir, f) for f in os.listdir(ann_dir)])"
   ]
  },
  {
   "cell_type": "code",
   "execution_count": 29,
   "metadata": {
    "collapsed": false
   },
   "outputs": [
    {
     "name": "stdout",
     "output_type": "stream",
     "text": [
      "grad_cam 0.533106679381\n"
     ]
    }
   ],
   "source": [
    "bb_file = '/data/ruthfong/neural_coding/results_reb/grad_cam_val_bbs_mean.txt'\n",
    "(err, _, _) = compute_localization_results(bb_file, ann_paths, synsets=synsets,\n",
    "                             reverse_indexing=reverse_indexing)\n",
    "print 'grad_cam', err"
   ]
  },
  {
   "cell_type": "code",
   "execution_count": 23,
   "metadata": {
    "collapsed": false
   },
   "outputs": [
    {
     "name": "stdout",
     "output_type": "stream",
     "text": [
      "occlusion 0.485778846553\n"
     ]
    }
   ],
   "source": [
    "bb_file = '/data/ruthfong/neural_coding/results_reb/occlusion_val_bbs_mean.txt'\n",
    "(err, _, _) = compute_localization_results(bb_file, ann_paths, synsets=synsets,\n",
    "                             reverse_indexing=reverse_indexing)\n",
    "print 'occlusion', err"
   ]
  },
  {
   "cell_type": "code",
   "execution_count": 52,
   "metadata": {
    "collapsed": false
   },
   "outputs": [
    {
     "name": "stdout",
     "output_type": "stream",
     "text": [
      "mask 0.432376964219\n"
     ]
    }
   ],
   "source": [
    "bb_file = '/data/ruthfong/neural_coding/loc_preds/googlenet_val_gt_pycaffe/googlenet_val_given_grad_1_norm_0/min_top5_prob_blur/lr_-1.00_l1_lambda_-3.00_tv_lambda_-inf_l1_lambda_2_-2.00_beta_2.00_mask_scale_8_blur_mask_5_jitter_4_noise_-inf_num_iters_300_tv2_mask_init/alpha_0.5_norm_Inf.txt'\n",
    "(err, _, _) = compute_localization_results(bb_file, ann_paths, synsets=synsets,\n",
    "                             reverse_indexing=reverse_indexing)\n",
    "print 'mask', err"
   ]
  },
  {
   "cell_type": "code",
   "execution_count": 53,
   "metadata": {
    "collapsed": false
   },
   "outputs": [
    {
     "name": "stdout",
     "output_type": "stream",
     "text": [
      "gradient 0.416601019943\n"
     ]
    }
   ],
   "source": [
    "bb_file = '/data/ruthfong/neural_coding/loc_preds/googlenet_val_gt_pycaffe/saliency/alpha_5.0_norm_Inf.txt'\n",
    "(err, _, _) = compute_localization_results(bb_file, ann_paths, synsets=synsets,\n",
    "                             reverse_indexing=reverse_indexing)\n",
    "print 'gradient', err"
   ]
  },
  {
   "cell_type": "code",
   "execution_count": 54,
   "metadata": {
    "collapsed": false
   },
   "outputs": [
    {
     "name": "stdout",
     "output_type": "stream",
     "text": [
      "guided_backprop 0.419938637589\n"
     ]
    }
   ],
   "source": [
    "bb_file = '/data/ruthfong/neural_coding/loc_preds/googlenet_val_gt_pycaffe/guided_backprop/alpha_4.5_norm_Inf.txt'\n",
    "(err, _, _) = compute_localization_results(bb_file, ann_paths, synsets=synsets,\n",
    "                             reverse_indexing=reverse_indexing)\n",
    "print 'guided_backprop', err"
   ]
  },
  {
   "cell_type": "code",
   "execution_count": 55,
   "metadata": {
    "collapsed": false
   },
   "outputs": [
    {
     "name": "stdout",
     "output_type": "stream",
     "text": [
      "excitation_backprop 0.389837887143\n"
     ]
    }
   ],
   "source": [
    "bb_file = '/data/ruthfong/neural_coding/loc_preds/googlenet_val_gt_pycaffe/excitation_backprop/alpha_1.5_norm_-1.txt'\n",
    "(err, _, _) = compute_localization_results(bb_file, ann_paths, synsets=synsets,\n",
    "                             reverse_indexing=reverse_indexing)\n",
    "print 'excitation_backprop', err"
   ]
  },
  {
   "cell_type": "code",
   "execution_count": null,
   "metadata": {
    "collapsed": true
   },
   "outputs": [],
   "source": []
  }
 ],
 "metadata": {
  "kernelspec": {
   "display_name": "Python 2",
   "language": "python",
   "name": "python2"
  },
  "language_info": {
   "codemirror_mode": {
    "name": "ipython",
    "version": 2
   },
   "file_extension": ".py",
   "mimetype": "text/x-python",
   "name": "python",
   "nbconvert_exporter": "python",
   "pygments_lexer": "ipython2",
   "version": "2.7.13"
  }
 },
 "nbformat": 4,
 "nbformat_minor": 2
}
