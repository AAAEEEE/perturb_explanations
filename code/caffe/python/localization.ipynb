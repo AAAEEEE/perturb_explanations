{
 "cells": [
  {
   "cell_type": "code",
   "execution_count": 2,
   "metadata": {
    "collapsed": true
   },
   "outputs": [],
   "source": [
    "import numpy as np\n",
    "from scipy.misc import imresize\n",
    "import pylab\n",
    "import matplotlib.pyplot as plt\n",
    "import matplotlib.patches as patches\n",
    "from skimage import transform, filters\n",
    "import sys, os\n",
    "\n",
    "%matplotlib notebook\n",
    "\n",
    "%load_ext autoreload\n",
    "%autoreload 2\n",
    "\n",
    "import caffe\n",
    "\n",
    "from helpers import *\n",
    "from heatmaps import *\n",
    "from optimize_mask import *"
   ]
  },
  {
   "cell_type": "code",
   "execution_count": 4,
   "metadata": {
    "collapsed": false
   },
   "outputs": [],
   "source": [
    "# TODO: Change this to your own Caffe-ExcitationBP directory\n",
    "caffe_dir = '/home/ruthfong/sample_code/Caffe-ExcitationBP/'\n",
    "\n",
    "gpu = 0 # gpu = None # for CPU-only\n",
    "net_type = 'googlenet'\n",
    "\n",
    "if gpu is not None:\n",
    "    caffe.set_device(gpu)\n",
    "    caffe.set_mode_gpu()\n",
    "else:\n",
    "    caffe.set_mode_cpu()\n",
    "\n",
    "net = get_net(net_type)"
   ]
  },
  {
   "cell_type": "code",
   "execution_count": 19,
   "metadata": {
    "collapsed": true
   },
   "outputs": [],
   "source": [
    "labels_desc = np.loadtxt(os.path.join(caffe_dir, 'data/ilsvrc12/synset_words.txt'), str, delimiter='\\t')\n",
    "synsets = np.loadtxt(os.path.join(caffe_dir, 'data/ilsvrc12/synsets.txt'), str, delimiter='\\t')\n",
    "indexing = np.loadtxt('../../../data/ilsvrc12/ascii_order_to_synset_order.txt')\n",
    "reverse_indexing = np.loadtxt('../../../data/ilsvrc12/synset_order_to_ascii_order.txt', dtype=int)\n",
    "(paths, labels) = read_imdb('../../../data/ilsvrc12/annotated_train_heldout_imdb.txt')\n",
    "data_desc = 'train_heldout'\n",
    "\n",
    "# Set generate_ann_dir = True to create a dir containing only the 5000 heldout training images' bounding box annotations (one-time only)\n",
    "# Download ImageNet bounding box here: http://image-net.org/Annotation/Annotation.tar.gz \n",
    "# (from http://image-net.org/download-bboxes)\n",
    "# TODO set orig_ilsvrc_ann_dir to the unzipped Annotation dir and ann_dir to where you want to save the heldout ann dir\n",
    "generate_ann_dir = False\n",
    "if generate_ann_dir:\n",
    "    orig_ilsvrc_ann_dir = '/data/ruthfong/ILSVRC2012/Annotation'\n",
    "    train_ann_dir = '/data/ruthfong/ILSVRC2012/annotated_train_heldout_ground_truth_annotations'\n",
    "    create_heldout_annotated_dir(orig_ilsvrc_ann_dir, ann_dir, \n",
    "                                 imdb='../../../data/ilsvrc12/annotated_train_heldout_imdb.txt')\n",
    "else:\n",
    "    train_ann_dir = '/data/ruthfong/ILSVRC2012/annotated_train_heldout_ground_truth_annotations'\n",
    "ann_dir = train_ann_dir\n",
    "ann_paths = np.sort([os.path.join(ann_dir, f) for f in os.listdir(ann_dir)])\n",
    "\n",
    "# TODO - set to the validation annotations dir\n",
    "val_ann_dir = '/data/ruthfong/ILSVRC2012/val'\n",
    "\n",
    "# TODO replace with mask dir (ideally holding learned masks from the 5000 heldout training images)\n",
    "# though most examples can be generated in this notebook, in which case make mask_dir the location in which\n",
    "# you want to save the learned masks and set generate_masks = True\n",
    "# Note: for localization, we use slightly different settings\n",
    "generate_masks = False\n",
    "mask_dir = '/data/ruthfong/neural_coding/pycaffe_results/googlenet_train_heldout_given_grad_1_norm_0/min_top5_prob_blur/lr_-1.00_l1_lambda_-3.00_tv_lambda_-inf_l1_lambda_2_-2.00_beta_2.00_mask_scale_8_blur_mask_5_jitter_4_noise_-inf_num_iters_300_tv2_mask_init'\n",
    "# mask_dir = '/data/ruthfong/neural_coding/pycaffe_results/googlenet_train_heldout_given_grad_1_norm_0/min_top0_prob_blur/lr_-1.00_l1_lambda_-4.00_tv_lambda_-inf_l1_lambda_2_-2.00_beta_3.00_mask_scale_8_blur_mask_5_jitter_4_noise_-inf_num_iters_300_tv2_mask_init'\n",
    "if generate_masks == False:\n",
    "    mask_paths = [os.path.join(mask_dir, '%d.npy' % x) for x in range(len(labels))]"
   ]
  },
  {
   "cell_type": "markdown",
   "metadata": {},
   "source": [
    "## Pre-reqs\n",
    "* Learn optimized masks for 50k validation images using localization hyperparameters (Run `python optimize_mask.py val localization`)\n",
    "* Run `python heatmaps.py OUT_PATH val HEATMAP_TYPE THRESHOLD_TYPE [MASK_DIR] [GPU]`\n",
    "    * `OUT_PATH` is where to save the output file with bounding box information\n",
    "    * `MASK_DIR` is where the masks for the 50k val images are saved (only include when using `HEATMAP_TYPE` = `mask`), \n",
    "    * `HEATMAP_TYPE` $\\in$ [`mask`, `saliency` (a.k.a. gradient), `guided_backprop`, `excitation_backprop`], and \n",
    "    * `THRESHOLD_TYPE` $\\in$ [`min_max_diff` (a.k.a. value), `energy`, `mean`]\n",
    "* (Optional, to replicate finding alpha thresholds) Learn optimized masks for 5000 heldout images using localization hyperparameters (Run `python optimize_mask.py heldout localization`)\n",
    "* (Optional, to replicate finding alpha thresholds) Run `python heatmaps.py OUT_DIR annotated_train_heldout HEATMAP_TYPE THRESHOLD_TYPE [MASK_DIR] [GPU]`\n",
    "    * `OUT_DIR` is the directory in which to save the output files with bounding box information for the alpha search\n",
    "    * `MASK_DIR` is where the masks for the 5k heldout training images are saved (only include when using `HEATMAP_TYPE` = `mask`), "
   ]
  },
  {
   "cell_type": "code",
   "execution_count": 13,
   "metadata": {
    "collapsed": true
   },
   "outputs": [],
   "source": [
    "def find_best_alpha(bb_file_prefix, alphas = np.arange(0,1,0.05)):\n",
    "    errs = np.zeros(len(alphas))\n",
    "    for i in range(len(alphas)):\n",
    "        alpha = alphas[i]\n",
    "        bb_file = bb_file_prefix % alpha\n",
    "        (err, _, _) = compute_localization_results(bb_file, ann_paths, synsets=synsets, \n",
    "                                                   reverse_indexing=reverse_indexing)\n",
    "        errs[i] = err\n",
    "    for i in range(len(alphas)):\n",
    "        print 'alpha = %.2f, err = %f' % (alphas[i], errs[i])\n",
    "    min_i = np.argmin(errs)\n",
    "    print 'best alpha = %.2f, err = %f' % (alphas[min_i], errs[min_i])\n",
    "    return errs"
   ]
  },
  {
   "cell_type": "markdown",
   "metadata": {},
   "source": [
    "# Energy-Alpha\n",
    "\n",
    "## Finding Best Alpha (optional)"
   ]
  },
  {
   "cell_type": "code",
   "execution_count": 16,
   "metadata": {
    "collapsed": false,
    "scrolled": true
   },
   "outputs": [
    {
     "name": "stdout",
     "output_type": "stream",
     "text": [
      "Mask\n",
      "alpha = 0.00, err = 0.790000\n",
      "alpha = 0.05, err = 0.912600\n",
      "alpha = 0.10, err = 0.861800\n",
      "alpha = 0.15, err = 0.822400\n",
      "alpha = 0.20, err = 0.785400\n",
      "alpha = 0.25, err = 0.750000\n",
      "alpha = 0.30, err = 0.722400\n",
      "alpha = 0.35, err = 0.693800\n",
      "alpha = 0.40, err = 0.671000\n",
      "alpha = 0.45, err = 0.638200\n",
      "alpha = 0.50, err = 0.610800\n",
      "alpha = 0.55, err = 0.586800\n",
      "alpha = 0.60, err = 0.558800\n",
      "alpha = 0.65, err = 0.528800\n",
      "alpha = 0.70, err = 0.494800\n",
      "alpha = 0.75, err = 0.470400\n",
      "alpha = 0.80, err = 0.442600\n",
      "alpha = 0.85, err = 0.417200\n",
      "alpha = 0.90, err = 0.396000\n",
      "alpha = 0.95, err = 0.391200\n",
      "best alpha = 0.95, err = 0.391200\n",
      "Gradient\n",
      "alpha = 0.00, err = 0.790000\n",
      "alpha = 0.05, err = 0.458000\n",
      "alpha = 0.10, err = 0.402600\n",
      "alpha = 0.15, err = 0.405600\n",
      "alpha = 0.20, err = 0.419200\n",
      "alpha = 0.25, err = 0.438200\n",
      "alpha = 0.30, err = 0.452000\n",
      "alpha = 0.35, err = 0.465600\n",
      "alpha = 0.40, err = 0.479000\n",
      "alpha = 0.45, err = 0.495200\n",
      "alpha = 0.50, err = 0.507200\n",
      "alpha = 0.55, err = 0.518600\n",
      "alpha = 0.60, err = 0.526600\n",
      "alpha = 0.65, err = 0.533600\n",
      "alpha = 0.70, err = 0.539800\n",
      "alpha = 0.75, err = 0.544800\n",
      "alpha = 0.80, err = 0.548000\n",
      "alpha = 0.85, err = 0.551600\n",
      "alpha = 0.90, err = 0.553600\n",
      "alpha = 0.95, err = 0.555600\n",
      "best alpha = 0.10, err = 0.402600\n",
      "Guided Backprop\n",
      "alpha = 0.00, err = 0.790000\n",
      "alpha = 0.05, err = 0.575400\n",
      "alpha = 0.10, err = 0.499200\n",
      "alpha = 0.15, err = 0.456800\n",
      "alpha = 0.20, err = 0.441400\n",
      "alpha = 0.25, err = 0.432600\n",
      "alpha = 0.30, err = 0.421600\n",
      "alpha = 0.35, err = 0.426600\n",
      "alpha = 0.40, err = 0.429200\n",
      "alpha = 0.45, err = 0.431600\n",
      "alpha = 0.50, err = 0.439400\n",
      "alpha = 0.55, err = 0.449400\n",
      "alpha = 0.60, err = 0.464800\n",
      "alpha = 0.65, err = 0.479600\n",
      "alpha = 0.70, err = 0.496400\n",
      "alpha = 0.75, err = 0.511400\n",
      "alpha = 0.80, err = 0.524600\n",
      "alpha = 0.85, err = 0.536800\n",
      "alpha = 0.90, err = 0.545400\n",
      "alpha = 0.95, err = 0.553000\n",
      "best alpha = 0.30, err = 0.421600\n",
      "Excitation Backprop\n",
      "alpha = 0.00, err = 0.790000\n",
      "alpha = 0.05, err = 0.896000\n",
      "alpha = 0.10, err = 0.751400\n",
      "alpha = 0.15, err = 0.647200\n",
      "alpha = 0.20, err = 0.570800\n",
      "alpha = 0.25, err = 0.511600\n",
      "alpha = 0.30, err = 0.466400\n",
      "alpha = 0.35, err = 0.429800\n",
      "alpha = 0.40, err = 0.395200\n",
      "alpha = 0.45, err = 0.372400\n",
      "alpha = 0.50, err = 0.360000\n",
      "alpha = 0.55, err = 0.352400\n",
      "alpha = 0.60, err = 0.350600\n",
      "alpha = 0.65, err = 0.360400\n",
      "alpha = 0.70, err = 0.378600\n",
      "alpha = 0.75, err = 0.403800\n",
      "alpha = 0.80, err = 0.441400\n",
      "alpha = 0.85, err = 0.484400\n",
      "alpha = 0.90, err = 0.523000\n",
      "alpha = 0.95, err = 0.552000\n",
      "best alpha = 0.60, err = 0.350600\n"
     ]
    }
   ],
   "source": [
    "ann_dir = train_ann_dir\n",
    "ann_paths = np.sort([os.path.join(ann_dir, f) for f in os.listdir(ann_dir)])\n",
    "\n",
    "heatmap_types = ['Mask', 'Gradient', 'Guided Backprop', 'Excitation Backprop']\n",
    "mask_trn_loc_format = '/data/ruthfong/neural_coding/loc_preds/googlenet_annotated_train_heldout_gt_pycaffe/googlenet_train_heldout_given_grad_1_norm_0/min_top5_prob_blur/lr_-1.00_l1_lambda_-3.00_tv_lambda_-inf_l1_lambda_2_-2.00_beta_2.00_mask_scale_8_blur_mask_5_jitter_4_noise_-inf_num_iters_300_tv2_mask_init/energy_alpha_%.2f_norm_Inf.txt'\n",
    "gradient_trn_loc_format = '/data/ruthfong/neural_coding/loc_preds/googlenet_annotated_train_heldout_gt_pycaffe/saliency/energy_alpha_%.2f_norm_Inf.txt'\n",
    "guided_trn_loc_format = '/data/ruthfong/neural_coding/loc_preds/googlenet_annotated_train_heldout_gt_pycaffe/guided_backprop/energy_alpha_%.2f_norm_Inf.txt'\n",
    "exc_trn_loc_format = '/data/ruthfong/neural_coding/loc_preds/googlenet_annotated_train_heldout_gt_pycaffe/excitation_backprop/energy_alpha_%.2f_norm_-1.txt'\n",
    "formats = [mask_trn_loc_format, gradient_trn_loc_format, guided_trn_loc_format, exc_trn_loc_format]\n",
    "\n",
    "assert (len(formats) == len(heatmap_types))\n",
    "for i in range(len(formats)):\n",
    "    print heatmap_types[i]\n",
    "    _ = find_best_alpha(formats[i])\n",
    "    print ''"
   ]
  },
  {
   "cell_type": "markdown",
   "metadata": {},
   "source": [
    "## Testing energy-alpha on validation set"
   ]
  },
  {
   "cell_type": "code",
   "execution_count": 20,
   "metadata": {
    "collapsed": true
   },
   "outputs": [],
   "source": [
    "ann_dir = val_ann_dir\n",
    "ann_paths = np.sort([os.path.join(ann_dir, f) for f in os.listdir(ann_dir)])"
   ]
  },
  {
   "cell_type": "code",
   "execution_count": 21,
   "metadata": {
    "collapsed": false
   },
   "outputs": [
    {
     "name": "stdout",
     "output_type": "stream",
     "text": [
      "mask 0.4425\n"
     ]
    }
   ],
   "source": [
    "# TODO - change to output file from heatmaps.py\n",
    "bb_file = '/data/ruthfong/neural_coding/loc_preds/googlenet_val_gt_pycaffe/googlenet_val_given_grad_1_norm_0/min_top5_prob_blur/lr_-1.00_l1_lambda_-3.00_tv_lambda_-inf_l1_lambda_2_-2.00_beta_2.00_mask_scale_8_blur_mask_5_jitter_4_noise_-inf_num_iters_300_tv2_mask_init/energy_alpha_0.95_norm_Inf.txt'\n",
    "(err, _, _) = compute_localization_results(bb_file, ann_paths, synsets=synsets,\n",
    "                             reverse_indexing=reverse_indexing)\n",
    "print 'mask', err"
   ]
  },
  {
   "cell_type": "code",
   "execution_count": 13,
   "metadata": {
    "collapsed": false
   },
   "outputs": [
    {
     "name": "stdout",
     "output_type": "stream",
     "text": [
      "saliency 0.44946\n"
     ]
    }
   ],
   "source": [
    "bb_file = '/data/ruthfong/neural_coding/loc_preds/googlenet_val_gt_pycaffe/saliency/energy_alpha_0.10_norm_Inf.txt'\n",
    "(err, _, _) = compute_localization_results(bb_file, ann_paths, synsets=synsets,\n",
    "                             reverse_indexing=reverse_indexing)\n",
    "print 'gradient', err"
   ]
  },
  {
   "cell_type": "code",
   "execution_count": 16,
   "metadata": {
    "collapsed": false
   },
   "outputs": [
    {
     "name": "stdout",
     "output_type": "stream",
     "text": [
      "guided_backprop 0.47962\n"
     ]
    }
   ],
   "source": [
    "bb_file = '/data/ruthfong/neural_coding/loc_preds/googlenet_val_gt_pycaffe/guided_backprop/energy_alpha_0.30_norm_Inf.txt'\n",
    "(err, _, _) = compute_localization_results(bb_file, ann_paths, synsets=synsets,\n",
    "                             reverse_indexing=reverse_indexing)\n",
    "print 'guided_backprop', err"
   ]
  },
  {
   "cell_type": "code",
   "execution_count": 6,
   "metadata": {
    "collapsed": false
   },
   "outputs": [
    {
     "name": "stdout",
     "output_type": "stream",
     "text": [
      "excitation_backprop 0.3992\n"
     ]
    }
   ],
   "source": [
    "bb_file = '/data/ruthfong/neural_coding/loc_preds/googlenet_val_gt_pycaffe/excitation_backprop/energy_alpha_0.60_norm_-1.txt'\n",
    "(err, _, _) = compute_localization_results(bb_file, ann_paths, synsets=synsets,\n",
    "                             reverse_indexing=reverse_indexing)\n",
    "print 'excitation_backprop', err"
   ]
  },
  {
   "cell_type": "markdown",
   "metadata": {},
   "source": [
    "# Value-Alpha\n",
    "## Finding Best Alpha (optional)"
   ]
  },
  {
   "cell_type": "code",
   "execution_count": 17,
   "metadata": {
    "collapsed": false,
    "scrolled": true
   },
   "outputs": [
    {
     "name": "stdout",
     "output_type": "stream",
     "text": [
      "Mask\n",
      "alpha = 0.00, err = 0.553000\n",
      "alpha = 0.05, err = 0.419400\n",
      "alpha = 0.10, err = 0.402400\n",
      "alpha = 0.15, err = 0.406000\n",
      "alpha = 0.20, err = 0.408600\n",
      "alpha = 0.25, err = 0.424000\n",
      "alpha = 0.30, err = 0.440800\n",
      "alpha = 0.35, err = 0.465000\n",
      "alpha = 0.40, err = 0.481600\n",
      "alpha = 0.45, err = 0.506400\n",
      "alpha = 0.50, err = 0.528200\n",
      "alpha = 0.55, err = 0.554600\n",
      "alpha = 0.60, err = 0.583000\n",
      "alpha = 0.65, err = 0.606000\n",
      "alpha = 0.70, err = 0.635800\n",
      "alpha = 0.75, err = 0.666200\n",
      "alpha = 0.80, err = 0.703600\n",
      "alpha = 0.85, err = 0.743600\n",
      "alpha = 0.90, err = 0.795800\n",
      "alpha = 0.95, err = 0.877800\n",
      "best alpha = 0.10, err = 0.402400\n",
      "\n",
      "Gradient\n",
      "alpha = 0.00, err = 0.556200\n",
      "alpha = 0.05, err = 0.533400\n",
      "alpha = 0.10, err = 0.481400\n",
      "alpha = 0.15, err = 0.437000\n",
      "alpha = 0.20, err = 0.424000\n",
      "alpha = 0.25, err = 0.423400\n",
      "alpha = 0.30, err = 0.463200\n",
      "alpha = 0.35, err = 0.514600\n",
      "alpha = 0.40, err = 0.583600\n",
      "alpha = 0.45, err = 0.652800\n",
      "alpha = 0.50, err = 0.723200\n",
      "alpha = 0.55, err = 0.787800\n",
      "alpha = 0.60, err = 0.846200\n",
      "alpha = 0.65, err = 0.893800\n",
      "alpha = 0.70, err = 0.927800\n",
      "alpha = 0.75, err = 0.952000\n",
      "alpha = 0.80, err = 0.974200\n",
      "alpha = 0.85, err = 0.985600\n",
      "alpha = 0.90, err = 0.993400\n",
      "alpha = 0.95, err = 0.998400\n",
      "best alpha = 0.25, err = 0.423400\n",
      "\n",
      "Guided Backprop\n",
      "alpha = 0.00, err = 0.556000\n",
      "alpha = 0.05, err = 0.470800\n",
      "alpha = 0.10, err = 0.472200\n",
      "alpha = 0.15, err = 0.485800\n",
      "alpha = 0.20, err = 0.509200\n",
      "alpha = 0.25, err = 0.542400\n",
      "alpha = 0.30, err = 0.586800\n",
      "alpha = 0.35, err = 0.636400\n",
      "alpha = 0.40, err = 0.691400\n",
      "alpha = 0.45, err = 0.746600\n",
      "alpha = 0.50, err = 0.797800\n",
      "alpha = 0.55, err = 0.839800\n",
      "alpha = 0.60, err = 0.876200\n",
      "alpha = 0.65, err = 0.913800\n",
      "alpha = 0.70, err = 0.942800\n",
      "alpha = 0.75, err = 0.962800\n",
      "alpha = 0.80, err = 0.979000\n",
      "alpha = 0.85, err = 0.987000\n",
      "alpha = 0.90, err = 0.994600\n",
      "alpha = 0.95, err = 0.998000\n",
      "best alpha = 0.05, err = 0.470800\n",
      "\n",
      "Excitation Backprop\n",
      "alpha = 0.00, err = 0.556200\n",
      "alpha = 0.05, err = 0.494400\n",
      "alpha = 0.10, err = 0.432200\n",
      "alpha = 0.15, err = 0.412400\n",
      "alpha = 0.20, err = 0.420400\n",
      "alpha = 0.25, err = 0.441200\n",
      "alpha = 0.30, err = 0.473800\n",
      "alpha = 0.35, err = 0.510800\n",
      "alpha = 0.40, err = 0.554200\n",
      "alpha = 0.45, err = 0.618600\n",
      "alpha = 0.50, err = 0.678200\n",
      "alpha = 0.55, err = 0.734200\n",
      "alpha = 0.60, err = 0.797800\n",
      "alpha = 0.65, err = 0.851600\n",
      "alpha = 0.70, err = 0.894600\n",
      "alpha = 0.75, err = 0.925400\n",
      "alpha = 0.80, err = 0.955400\n",
      "alpha = 0.85, err = 0.976400\n",
      "alpha = 0.90, err = 0.988600\n",
      "alpha = 0.95, err = 0.995600\n",
      "best alpha = 0.15, err = 0.412400\n",
      "\n"
     ]
    }
   ],
   "source": [
    "ann_dir = train_ann_dir\n",
    "ann_paths = np.sort([os.path.join(ann_dir, f) for f in os.listdir(ann_dir)])\n",
    "\n",
    "heatmap_types = ['Mask', 'Gradient', 'Guided Backprop', 'Excitation Backprop']\n",
    "mask_trn_loc_format = '/data/ruthfong/neural_coding/loc_preds/googlenet_annotated_train_heldout_gt_pycaffe/googlenet_train_heldout_given_grad_1_norm_0/min_top5_prob_blur/lr_-1.00_l1_lambda_-3.00_tv_lambda_-inf_l1_lambda_2_-2.00_beta_2.00_mask_scale_8_blur_mask_5_jitter_4_noise_-inf_num_iters_300_tv2_mask_init/min_max_diff_alpha_%.2f_norm_Inf.txt'\n",
    "gradient_trn_loc_format = '/data/ruthfong/neural_coding/loc_preds/googlenet_annotated_train_heldout_gt_pycaffe/saliency/min_max_diff_alpha_%.2f_norm_Inf.txt'\n",
    "guided_trn_loc_format = '/data/ruthfong/neural_coding/loc_preds/googlenet_annotated_train_heldout_gt_pycaffe/guided_backprop/min_max_diff_alpha_%.2f_norm_Inf.txt'\n",
    "exc_trn_loc_format = '/data/ruthfong/neural_coding/loc_preds/googlenet_annotated_train_heldout_gt_pycaffe/excitation_backprop/min_max_diff_alpha_%.2f_norm_-1.txt'\n",
    "formats = [mask_trn_loc_format, gradient_trn_loc_format, guided_trn_loc_format, exc_trn_loc_format]\n",
    "\n",
    "assert (len(formats) == len(heatmap_types))\n",
    "for i in range(len(formats)):\n",
    "    print heatmap_types[i]\n",
    "    _ = find_best_alpha(formats[i])\n",
    "    print ''"
   ]
  },
  {
   "cell_type": "markdown",
   "metadata": {},
   "source": [
    "## Testing value-alpha on validation set"
   ]
  },
  {
   "cell_type": "code",
   "execution_count": 23,
   "metadata": {
    "collapsed": true
   },
   "outputs": [],
   "source": [
    "ann_dir = val_ann_dir\n",
    "ann_paths = np.sort([os.path.join(ann_dir, f) for f in os.listdir(ann_dir)])"
   ]
  },
  {
   "cell_type": "code",
   "execution_count": 24,
   "metadata": {
    "collapsed": false
   },
   "outputs": [
    {
     "name": "stdout",
     "output_type": "stream",
     "text": [
      "mask 0.45104\n"
     ]
    }
   ],
   "source": [
    "bb_file = '/data/ruthfong/neural_coding/loc_preds/googlenet_val_gt_pycaffe/googlenet_val_given_grad_1_norm_0/min_top5_prob_blur/lr_-1.00_l1_lambda_-3.00_tv_lambda_-inf_l1_lambda_2_-2.00_beta_2.00_mask_scale_8_blur_mask_5_jitter_4_noise_-inf_num_iters_300_tv2_mask_init/min_max_diff_alpha_0.10_norm_Inf.txt'\n",
    "(err, _, _) = compute_localization_results(bb_file, ann_paths, synsets=synsets,\n",
    "                             reverse_indexing=reverse_indexing)\n",
    "print 'mask', err"
   ]
  },
  {
   "cell_type": "code",
   "execution_count": 25,
   "metadata": {
    "collapsed": false
   },
   "outputs": [
    {
     "name": "stdout",
     "output_type": "stream",
     "text": [
      "gradient 0.4704\n"
     ]
    }
   ],
   "source": [
    "bb_file = '/data/ruthfong/neural_coding/loc_preds/googlenet_val_gt_pycaffe/saliency/min_max_diff_alpha_0.25_norm_Inf.txt'\n",
    "(err, _, _) = compute_localization_results(bb_file, ann_paths, synsets=synsets,\n",
    "                             reverse_indexing=reverse_indexing)\n",
    "print 'gradient', err"
   ]
  },
  {
   "cell_type": "code",
   "execution_count": 26,
   "metadata": {
    "collapsed": false
   },
   "outputs": [
    {
     "name": "stdout",
     "output_type": "stream",
     "text": [
      "guided_backprop 0.5118\n"
     ]
    }
   ],
   "source": [
    "bb_file = '/data/ruthfong/neural_coding/loc_preds/googlenet_val_gt_pycaffe/guided_backprop/min_max_diff_alpha_0.05_norm_Inf.txt'\n",
    "(err, _, _) = compute_localization_results(bb_file, ann_paths, synsets=synsets,\n",
    "                             reverse_indexing=reverse_indexing)\n",
    "print 'guided_backprop', err"
   ]
  },
  {
   "cell_type": "code",
   "execution_count": 27,
   "metadata": {
    "collapsed": false
   },
   "outputs": [
    {
     "name": "stdout",
     "output_type": "stream",
     "text": [
      "excitation_backprop 0.4711\n"
     ]
    }
   ],
   "source": [
    "bb_file = '/data/ruthfong/neural_coding/loc_preds/googlenet_val_gt_pycaffe/excitation_backprop/min_max_diff_alpha_0.15_norm_-1.txt'\n",
    "(err, _, _) = compute_localization_results(bb_file, ann_paths, synsets=synsets,\n",
    "                             reverse_indexing=reverse_indexing)\n",
    "print 'excitation_backprop', err"
   ]
  },
  {
   "cell_type": "markdown",
   "metadata": {
    "collapsed": true
   },
   "source": [
    "# Mean Alpha\n",
    "## Finding Best Alpha (optional)"
   ]
  },
  {
   "cell_type": "code",
   "execution_count": null,
   "metadata": {
    "collapsed": false,
    "scrolled": true
   },
   "outputs": [],
   "source": [
    "ann_dir = train_ann_dir\n",
    "ann_paths = np.sort([os.path.join(ann_dir, f) for f in os.listdir(ann_dir)])\n",
    "\n",
    "alphas = np.arange(0, 10.5, 0.5)\n",
    "heatmap_types = ['Mask', 'Gradient', 'Guided Backprop', 'Excitation Backprop']\n",
    "mask_trn_loc_format = '/data/ruthfong/neural_coding/loc_preds/googlenet_annotated_train_heldout_gt_pycaffe/googlenet_train_heldout_given_grad_1_norm_0/min_top5_prob_blur/lr_-1.00_l1_lambda_-3.00_tv_lambda_-inf_l1_lambda_2_-2.00_beta_2.00_mask_scale_8_blur_mask_5_jitter_4_noise_-inf_num_iters_300_tv2_mask_init/alpha_%.1f_norm_Inf.txt'\n",
    "gradient_trn_loc_format = '/data/ruthfong/neural_coding/loc_preds/googlenet_annotated_train_heldout_gt_pycaffe/saliency/alpha_%.1f_norm_Inf.txt'\n",
    "guided_trn_loc_format = '/data/ruthfong/neural_coding/loc_preds/googlenet_annotated_train_heldout_gt_pycaffe/guided_backprop/alpha_%.1f_norm_Inf.txt'\n",
    "exc_trn_loc_format = '/data/ruthfong/neural_coding/loc_preds/googlenet_annotated_train_heldout_gt_pycaffe/excitation_backprop/alpha_%.1f_norm_-1.txt'\n",
    "formats = [mask_trn_loc_format, gradient_trn_loc_format, guided_trn_loc_format, exc_trn_loc_format]\n",
    "\n",
    "assert (len(formats) == len(heatmap_types))\n",
    "for i in range(len(formats)):\n",
    "    print heatmap_types[i]\n",
    "    _ = find_best_alpha(formats[i], alphas = alphas)\n",
    "    print ''"
   ]
  },
  {
   "cell_type": "code",
   "execution_count": null,
   "metadata": {
    "collapsed": true
   },
   "outputs": [],
   "source": []
  },
  {
   "cell_type": "code",
   "execution_count": 24,
   "metadata": {
    "collapsed": false
   },
   "outputs": [
    {
     "name": "stdout",
     "output_type": "stream",
     "text": [
      "mask 0.45104\n"
     ]
    }
   ],
   "source": [
    "bb_file = '/data/ruthfong/neural_coding/loc_preds/googlenet_val_gt_pycaffe/googlenet_val_given_grad_1_norm_0/min_top5_prob_blur/lr_-1.00_l1_lambda_-3.00_tv_lambda_-inf_l1_lambda_2_-2.00_beta_2.00_mask_scale_8_blur_mask_5_jitter_4_noise_-inf_num_iters_300_tv2_mask_init/min_max_diff_alpha_0.10_norm_Inf.txt'\n",
    "(err, _, _) = compute_localization_results(bb_file, ann_paths, synsets=synsets,\n",
    "                             reverse_indexing=reverse_indexing)\n",
    "print 'mask', err"
   ]
  },
  {
   "cell_type": "code",
   "execution_count": 25,
   "metadata": {
    "collapsed": false
   },
   "outputs": [
    {
     "name": "stdout",
     "output_type": "stream",
     "text": [
      "gradient 0.4704\n"
     ]
    }
   ],
   "source": [
    "bb_file = '/data/ruthfong/neural_coding/loc_preds/googlenet_val_gt_pycaffe/saliency/min_max_diff_alpha_0.25_norm_Inf.txt'\n",
    "(err, _, _) = compute_localization_results(bb_file, ann_paths, synsets=synsets,\n",
    "                             reverse_indexing=reverse_indexing)\n",
    "print 'gradient', err"
   ]
  },
  {
   "cell_type": "code",
   "execution_count": null,
   "metadata": {
    "collapsed": false
   },
   "outputs": [
    {
     "name": "stdout",
     "output_type": "stream",
     "text": [
      "guided_backprop 0.5118\n"
     ]
    }
   ],
   "source": [
    "bb_file = '/data/ruthfong/neural_coding/loc_preds/googlenet_val_gt_pycaffe/guided_backprop/min_max_diff_alpha_0.05_norm_Inf.txt'\n",
    "(err, _, _) = compute_localization_results(bb_file, ann_paths, synsets=synsets,\n",
    "                             reverse_indexing=reverse_indexing)\n",
    "print 'guided_backprop', err"
   ]
  },
  {
   "cell_type": "code",
   "execution_count": null,
   "metadata": {
    "collapsed": false
   },
   "outputs": [
    {
     "name": "stdout",
     "output_type": "stream",
     "text": [
      "excitation_backprop 0.4711\n"
     ]
    }
   ],
   "source": [
    "bb_file = '/data/ruthfong/neural_coding/loc_preds/googlenet_val_gt_pycaffe/excitation_backprop/min_max_diff_alpha_0.15_norm_-1.txt'\n",
    "(err, _, _) = compute_localization_results(bb_file, ann_paths, synsets=synsets,\n",
    "                             reverse_indexing=reverse_indexing)\n",
    "print 'excitation_backprop', err"
   ]
  },
  {
   "cell_type": "markdown",
   "metadata": {
    "collapsed": true
   },
   "source": [
    "# Mean Alpha\n",
    "## Finding Best Alpha (optional)"
   ]
  },
  {
   "cell_type": "code",
   "execution_count": null,
   "metadata": {
    "collapsed": false,
    "scrolled": true
   },
   "outputs": [],
   "source": [
    "ann_dir = train_ann_dir\n",
    "ann_paths = np.sort([os.path.join(ann_dir, f) for f in os.listdir(ann_dir)])\n",
    "\n",
    "alphas = np.arange(0, 10.5, 0.5)\n",
    "heatmap_types = ['Mask', 'Gradient', 'Guided Backprop', 'Excitation Backprop']\n",
    "mask_trn_loc_format = '/data/ruthfong/neural_coding/loc_preds/googlenet_annotated_train_heldout_gt_pycaffe/googlenet_train_heldout_given_grad_1_norm_0/min_top5_prob_blur/lr_-1.00_l1_lambda_-3.00_tv_lambda_-inf_l1_lambda_2_-2.00_beta_2.00_mask_scale_8_blur_mask_5_jitter_4_noise_-inf_num_iters_300_tv2_mask_init/alpha_%.1f_norm_Inf.txt'\n",
    "gradient_trn_loc_format = '/data/ruthfong/neural_coding/loc_preds/googlenet_annotated_train_heldout_gt_pycaffe/saliency/alpha_%.1f_norm_Inf.txt'\n",
    "guided_trn_loc_format = '/data/ruthfong/neural_coding/loc_preds/googlenet_annotated_train_heldout_gt_pycaffe/guided_backprop/alpha_%.1f_norm_Inf.txt'\n",
    "exc_trn_loc_format = '/data/ruthfong/neural_coding/loc_preds/googlenet_annotated_train_heldout_gt_pycaffe/excitation_backprop/alpha_%.1f_norm_-1.txt'\n",
    "formats = [mask_trn_loc_format, gradient_trn_loc_format, guided_trn_loc_format, exc_trn_loc_format]\n",
    "\n",
    "assert (len(formats) == len(heatmap_types))\n",
    "for i in range(len(formats)):\n",
    "    print heatmap_types[i]\n",
    "    _ = find_best_alpha(formats[i], alphas = alphas)\n",
    "    print ''"
   ]
  },
  {
   "cell_type": "markdown",
   "metadata": {},
   "source": [
    "## Testing mean-alpha on validation set"
   ]
  },
  {
   "cell_type": "code",
   "execution_count": 28,
   "metadata": {
    "collapsed": true
   },
   "outputs": [],
   "source": [
    "ann_dir = val_ann_dir\n",
    "ann_paths = np.sort([os.path.join(ann_dir, f) for f in os.listdir(ann_dir)])"
   ]
  },
  {
   "cell_type": "code",
   "execution_count": 29,
   "metadata": {
    "collapsed": false
   },
   "outputs": [
    {
     "name": "stdout",
     "output_type": "stream",
     "text": [
      "mask 0.44342\n"
     ]
    }
   ],
   "source": [
    "bb_file = '/data/ruthfong/neural_coding/loc_preds/googlenet_val_gt_pycaffe/googlenet_val_given_grad_1_norm_0/min_top5_prob_blur/lr_-1.00_l1_lambda_-3.00_tv_lambda_-inf_l1_lambda_2_-2.00_beta_2.00_mask_scale_8_blur_mask_5_jitter_4_noise_-inf_num_iters_300_tv2_mask_init/alpha_0.5_norm_Inf.txt'\n",
    "(err, _, _) = compute_localization_results(bb_file, ann_paths, synsets=synsets,\n",
    "                             reverse_indexing=reverse_indexing)\n",
    "print 'mask', err"
   ]
  },
  {
   "cell_type": "code",
   "execution_count": 30,
   "metadata": {
    "collapsed": false
   },
   "outputs": [
    {
     "ename": "IOError",
     "evalue": "[Errno 2] No such file or directory: '/data/ruthfong/neural_coding/loc_preds/googlenet_val_gt_pycaffe/saliency/alpha_5.0_norm_Inf.txt'",
     "output_type": "error",
     "traceback": [
      "\u001b[0;31m---------------------------------------------------------------------------\u001b[0m",
      "\u001b[0;31mIOError\u001b[0m                                   Traceback (most recent call last)",
      "\u001b[0;32m<ipython-input-30-1cd9263a9a78>\u001b[0m in \u001b[0;36m<module>\u001b[0;34m()\u001b[0m\n\u001b[1;32m      1\u001b[0m \u001b[0mbb_file\u001b[0m \u001b[0;34m=\u001b[0m \u001b[0;34m'/data/ruthfong/neural_coding/loc_preds/googlenet_val_gt_pycaffe/saliency/alpha_5.0_norm_Inf.txt'\u001b[0m\u001b[0;34m\u001b[0m\u001b[0m\n\u001b[1;32m      2\u001b[0m (err, _, _) = compute_localization_results(bb_file, ann_paths, synsets=synsets,\n\u001b[0;32m----> 3\u001b[0;31m                              reverse_indexing=reverse_indexing)\n\u001b[0m\u001b[1;32m      4\u001b[0m \u001b[0;32mprint\u001b[0m \u001b[0;34m'gradient'\u001b[0m\u001b[0;34m,\u001b[0m \u001b[0merr\u001b[0m\u001b[0;34m\u001b[0m\u001b[0m\n",
      "\u001b[0;32m/home/ruthfong/neural_coding/code/caffe/python/helpers.py\u001b[0m in \u001b[0;36mcompute_localization_results\u001b[0;34m(bb_file, ann_paths, verbose, synsets, reverse_indexing)\u001b[0m\n\u001b[1;32m    276\u001b[0m     \u001b[0;32mif\u001b[0m \u001b[0mverbose\u001b[0m\u001b[0;34m:\u001b[0m\u001b[0;34m\u001b[0m\u001b[0m\n\u001b[1;32m    277\u001b[0m         \u001b[0;32mprint\u001b[0m \u001b[0;34m'Loading bounding boxes from'\u001b[0m\u001b[0;34m,\u001b[0m \u001b[0mbb_file\u001b[0m\u001b[0;34m\u001b[0m\u001b[0m\n\u001b[0;32m--> 278\u001b[0;31m     \u001b[0mbb_data\u001b[0m \u001b[0;34m=\u001b[0m \u001b[0mnp\u001b[0m\u001b[0;34m.\u001b[0m\u001b[0mloadtxt\u001b[0m\u001b[0;34m(\u001b[0m\u001b[0mbb_file\u001b[0m\u001b[0;34m)\u001b[0m\u001b[0;34m\u001b[0m\u001b[0m\n\u001b[0m\u001b[1;32m    279\u001b[0m     \u001b[0mbb_labels\u001b[0m \u001b[0;34m=\u001b[0m \u001b[0mbb_data\u001b[0m\u001b[0;34m[\u001b[0m\u001b[0;34m:\u001b[0m\u001b[0;34m,\u001b[0m\u001b[0;36m0\u001b[0m\u001b[0;34m]\u001b[0m\u001b[0;34m.\u001b[0m\u001b[0mastype\u001b[0m\u001b[0;34m(\u001b[0m\u001b[0mint\u001b[0m\u001b[0;34m)\u001b[0m\u001b[0;34m\u001b[0m\u001b[0m\n\u001b[1;32m    280\u001b[0m     \u001b[0mbbs\u001b[0m \u001b[0;34m=\u001b[0m \u001b[0mbb_data\u001b[0m\u001b[0;34m[\u001b[0m\u001b[0;34m:\u001b[0m\u001b[0;34m,\u001b[0m\u001b[0;36m1\u001b[0m\u001b[0;34m:\u001b[0m\u001b[0;34m]\u001b[0m\u001b[0;34m.\u001b[0m\u001b[0mastype\u001b[0m\u001b[0;34m(\u001b[0m\u001b[0mint\u001b[0m\u001b[0;34m)\u001b[0m\u001b[0;34m\u001b[0m\u001b[0m\n",
      "\u001b[0;32m/home/ruthfong/anaconda2/lib/python2.7/site-packages/numpy/lib/npyio.pyc\u001b[0m in \u001b[0;36mloadtxt\u001b[0;34m(fname, dtype, comments, delimiter, converters, skiprows, usecols, unpack, ndmin)\u001b[0m\n\u001b[1;32m    801\u001b[0m                 \u001b[0mfh\u001b[0m \u001b[0;34m=\u001b[0m \u001b[0miter\u001b[0m\u001b[0;34m(\u001b[0m\u001b[0mbz2\u001b[0m\u001b[0;34m.\u001b[0m\u001b[0mBZ2File\u001b[0m\u001b[0;34m(\u001b[0m\u001b[0mfname\u001b[0m\u001b[0;34m)\u001b[0m\u001b[0;34m)\u001b[0m\u001b[0;34m\u001b[0m\u001b[0m\n\u001b[1;32m    802\u001b[0m             \u001b[0;32melif\u001b[0m \u001b[0msys\u001b[0m\u001b[0;34m.\u001b[0m\u001b[0mversion_info\u001b[0m\u001b[0;34m[\u001b[0m\u001b[0;36m0\u001b[0m\u001b[0;34m]\u001b[0m \u001b[0;34m==\u001b[0m \u001b[0;36m2\u001b[0m\u001b[0;34m:\u001b[0m\u001b[0;34m\u001b[0m\u001b[0m\n\u001b[0;32m--> 803\u001b[0;31m                 \u001b[0mfh\u001b[0m \u001b[0;34m=\u001b[0m \u001b[0miter\u001b[0m\u001b[0;34m(\u001b[0m\u001b[0mopen\u001b[0m\u001b[0;34m(\u001b[0m\u001b[0mfname\u001b[0m\u001b[0;34m,\u001b[0m \u001b[0;34m'U'\u001b[0m\u001b[0;34m)\u001b[0m\u001b[0;34m)\u001b[0m\u001b[0;34m\u001b[0m\u001b[0m\n\u001b[0m\u001b[1;32m    804\u001b[0m             \u001b[0;32melse\u001b[0m\u001b[0;34m:\u001b[0m\u001b[0;34m\u001b[0m\u001b[0m\n\u001b[1;32m    805\u001b[0m                 \u001b[0mfh\u001b[0m \u001b[0;34m=\u001b[0m \u001b[0miter\u001b[0m\u001b[0;34m(\u001b[0m\u001b[0mopen\u001b[0m\u001b[0;34m(\u001b[0m\u001b[0mfname\u001b[0m\u001b[0;34m)\u001b[0m\u001b[0;34m)\u001b[0m\u001b[0;34m\u001b[0m\u001b[0m\n",
      "\u001b[0;31mIOError\u001b[0m: [Errno 2] No such file or directory: '/data/ruthfong/neural_coding/loc_preds/googlenet_val_gt_pycaffe/saliency/alpha_5.0_norm_Inf.txt'"
     ]
    }
   ],
   "source": [
    "bb_file = '/data/ruthfong/neural_coding/loc_preds/googlenet_val_gt_pycaffe/saliency/alpha_5.0_norm_Inf.txt'\n",
    "(err, _, _) = compute_localization_results(bb_file, ann_paths, synsets=synsets,\n",
    "                             reverse_indexing=reverse_indexing)\n",
    "print 'gradient', err"
   ]
  },
  {
   "cell_type": "code",
   "execution_count": null,
   "metadata": {
    "collapsed": false
   },
   "outputs": [],
   "source": [
    "bb_file = '/data/ruthfong/neural_coding/loc_preds/googlenet_val_gt_pycaffe/guided_backprop/alpha_4.5_norm_Inf.txt'\n",
    "(err, _, _) = compute_localization_results(bb_file, ann_paths, synsets=synsets,\n",
    "                             reverse_indexing=reverse_indexing)\n",
    "print 'guided_backprop', err"
   ]
  },
  {
   "cell_type": "code",
   "execution_count": null,
   "metadata": {
    "collapsed": false
   },
   "outputs": [],
   "source": [
    "bb_file = '/data/ruthfong/neural_coding/loc_preds/googlenet_val_gt_pycaffe/excitation_backprop/alpha_1.5_norm_-1.txt'\n",
    "(err, _, _) = compute_localization_results(bb_file, ann_paths, synsets=synsets,\n",
    "                             reverse_indexing=reverse_indexing)\n",
    "print 'excitation_backprop', err"
   ]
  }
 ],
 "metadata": {
  "kernelspec": {
   "display_name": "Python 2",
   "language": "python",
   "name": "python2"
  },
  "language_info": {
   "codemirror_mode": {
    "name": "ipython",
    "version": 2
   },
   "file_extension": ".py",
   "mimetype": "text/x-python",
   "name": "python",
   "nbconvert_exporter": "python",
   "pygments_lexer": "ipython2",
   "version": "2.7.13"
  }
 },
 "nbformat": 4,
 "nbformat_minor": 2
}
