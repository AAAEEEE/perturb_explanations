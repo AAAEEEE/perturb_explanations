{
 "cells": [
  {
   "cell_type": "code",
   "execution_count": 27,
   "metadata": {
    "collapsed": false
   },
   "outputs": [
    {
     "name": "stdout",
     "output_type": "stream",
     "text": [
      "The autoreload extension is already loaded. To reload it, use:\n",
      "  %reload_ext autoreload\n"
     ]
    }
   ],
   "source": [
    "import numpy as np\n",
    "import pylab\n",
    "import matplotlib.pyplot as plt\n",
    "from skimage import transform, filters\n",
    "import sys, os\n",
    "import urllib\n",
    "\n",
    "% matplotlib inline\n",
    "\n",
    "%load_ext autoreload\n",
    "%autoreload 2\n",
    "\n",
    "import caffe\n",
    "\n",
    "from helpers import *\n",
    "from heatmaps import *\n",
    "from optimize_mask import *\n",
    "from pointing_game import *\n",
    "from defaults import voc_labels_desc"
   ]
  },
  {
   "cell_type": "code",
   "execution_count": 28,
   "metadata": {
    "collapsed": false
   },
   "outputs": [],
   "source": [
    "gpu = 0\n",
    "\n",
    "caffe.set_device(gpu)\n",
    "caffe.set_mode_gpu()"
   ]
  },
  {
   "cell_type": "code",
   "execution_count": 29,
   "metadata": {
    "collapsed": false
   },
   "outputs": [],
   "source": [
    "net = get_net('googlenet_voc')"
   ]
  },
  {
   "cell_type": "code",
   "execution_count": 4,
   "metadata": {
    "collapsed": false
   },
   "outputs": [],
   "source": [
    "voc_dir = '/data/ruthfong/VOCdevkit/VOC2007/'\n",
    "labels_desc = voc_labels_desc\n",
    "(paths, labels) = read_imdb(os.path.join(voc_dir, 'caffe/test.txt'))\n",
    "ann_dir = os.path.join(voc_dir, 'Annotations')\n",
    "ann_paths = np.array([os.path.join(ann_dir, f.strip('.jpg') + '.xml') for f in paths])\n",
    "paths = np.array([os.path.join(voc_dir, 'JPEGImages', f) for f in paths])"
   ]
  },
  {
   "cell_type": "code",
   "execution_count": 5,
   "metadata": {
    "collapsed": false
   },
   "outputs": [
    {
     "name": "stdout",
     "output_type": "stream",
     "text": [
      "4952 7013\n"
     ]
    }
   ],
   "source": [
    "print len(np.unique(paths)), len(paths)"
   ]
  },
  {
   "cell_type": "code",
   "execution_count": 6,
   "metadata": {
    "collapsed": false
   },
   "outputs": [],
   "source": [
    "transformer = get_VOC_net_transformer(net)"
   ]
  },
  {
   "cell_type": "code",
   "execution_count": 17,
   "metadata": {
    "collapsed": false,
    "scrolled": true
   },
   "outputs": [
    {
     "name": "stdout",
     "output_type": "stream",
     "text": [
      "0/110: 7.8420\n",
      "1/110: 8.3581\n",
      "2/110: 9.2668\n",
      "3/110: 7.4220\n",
      "4/110: 9.2697\n",
      "5/110: 9.5883\n",
      "6/110: 9.1985\n",
      "7/110: 9.6694\n",
      "8/110: 9.8213\n",
      "9/110: 10.0643\n",
      "10/110: 9.6472\n",
      "11/110: 8.5063\n",
      "12/110: 7.4746\n",
      "13/110: 8.3845\n",
      "14/110: 9.3004\n",
      "15/110: 10.2518\n",
      "16/110: 9.7653\n",
      "17/110: 8.4550\n",
      "18/110: 8.8728\n",
      "19/110: 10.1837\n",
      "20/110: 9.4098\n",
      "21/110: 8.9845\n",
      "22/110: 9.4043\n",
      "23/110: 9.1103\n",
      "24/110: 11.1221\n",
      "25/110: 10.0420\n",
      "26/110: 9.5616\n",
      "27/110: 8.2675\n",
      "28/110: 5.5424\n",
      "29/110: 7.4637\n",
      "30/110: 7.6222\n",
      "31/110: 6.6306\n",
      "32/110: 8.9807\n",
      "33/110: 7.6676\n",
      "34/110: 3.8740\n",
      "35/110: 2.4745\n",
      "36/110: 2.6718\n",
      "37/110: 4.6572\n",
      "38/110: 3.8406\n",
      "39/110: 4.9038\n",
      "40/110: 4.8339\n",
      "41/110: 4.9532\n",
      "42/110: 5.0273\n",
      "43/110: 3.1216\n",
      "44/110: 4.5340\n",
      "45/110: 5.2710\n",
      "46/110: 5.2629\n",
      "47/110: 5.6406\n",
      "48/110: 4.3254\n",
      "49/110: 4.0347\n",
      "50/110: 4.2162\n",
      "51/110: 4.1180\n",
      "52/110: 3.1039\n",
      "53/110: 4.3674\n",
      "54/110: 4.7125\n",
      "55/110: 3.4443\n",
      "56/110: 3.1588\n",
      "57/110: 2.6539\n",
      "58/110: 3.7287\n",
      "59/110: 3.2938\n",
      "60/110: 4.0478\n",
      "61/110: 4.0495\n",
      "62/110: 4.3631\n",
      "63/110: 3.4999\n",
      "64/110: 3.3105\n",
      "65/110: 3.3108\n",
      "66/110: 2.3074\n",
      "67/110: 2.1392\n",
      "68/110: 4.3097\n",
      "69/110: 5.7173\n",
      "70/110: 5.8954\n",
      "71/110: 5.9727\n",
      "72/110: 5.0346\n",
      "73/110: 4.6248\n",
      "74/110: 5.5180\n",
      "75/110: 5.6675\n",
      "76/110: 4.8872\n",
      "77/110: 4.6176\n",
      "78/110: 2.2502\n",
      "79/110: 2.1534\n",
      "80/110: 3.7477\n",
      "81/110: 9.8709\n",
      "82/110: 9.1030\n",
      "83/110: 9.3518\n",
      "84/110: 9.6006\n",
      "85/110: 10.0438\n",
      "86/110: 8.6412\n",
      "87/110: 8.7348\n",
      "88/110: 7.9873\n",
      "89/110: 8.9669\n",
      "90/110: 9.9726\n",
      "91/110: 10.2683\n",
      "92/110: 10.2084\n",
      "93/110: 8.4699\n",
      "94/110: 9.0376\n",
      "95/110: 8.1304\n",
      "96/110: 9.2534\n",
      "97/110: 9.8388\n",
      "98/110: 9.3010\n",
      "99/110: 8.6211\n",
      "100/110: 9.7502\n",
      "101/110: 9.4320\n",
      "102/110: 8.0823\n",
      "103/110: 8.1649\n",
      "104/110: 8.2620\n",
      "105/110: 8.7973\n",
      "106/110: 9.2899\n",
      "107/110: 9.1915\n",
      "108/110: 8.4488\n",
      "109/110: 5.3450\n"
     ]
    }
   ],
   "source": [
    "(accs, num_hits, num_total) = play_pointing_game(net, transformer, paths, labels, ann_paths, \n",
    "                                                 'saliency', labels_desc, \n",
    "                       top_name = 'loss3/classifier-ft', bottom_name = 'data', norm_deg = np.inf, batch_size = 64, \n",
    "                       gpu = gpu)\n",
    "\n",
    "for i in range(len(labels_desc)):\n",
    "    print labels_desc[i], accs[i]\n",
    "print 'mean acc', np.mean(accs)"
   ]
  },
  {
   "cell_type": "code",
   "execution_count": 19,
   "metadata": {
    "collapsed": false,
    "scrolled": true
   },
   "outputs": [
    {
     "name": "stdout",
     "output_type": "stream",
     "text": [
      "aeroplane 0.774509803922\n",
      "bicycle 0.598326359833\n",
      "bird 0.836879432624\n",
      "boat 0.651162790698\n",
      "bottle 0.283018867925\n",
      "bus 0.666666666667\n",
      "car 0.53814147018\n",
      "cat 0.866459627329\n",
      "chair 0.342925659472\n",
      "cow 0.929133858268\n",
      "diningtable 0.621052631579\n",
      "dog 0.894736842105\n",
      "horse 0.916058394161\n",
      "motorbike 0.702702702703\n",
      "person 0.503736920777\n",
      "pottedplant 0.441964285714\n",
      "sheep 0.948453608247\n",
      "sofa 0.735426008969\n",
      "train 0.822393822394\n",
      "tvmonitor 0.336244541485\n",
      "mean acc 0.670499714753\n"
     ]
    }
   ],
   "source": [
    "for i in range(len(labels_desc)):\n",
    "    print labels_desc[i], accs[i]\n",
    "print 'mean acc', np.mean(accs)\n",
    "sal_accs = accs\n",
    "sal_num_hits = num_hits\n",
    "sal_num_total = num_total"
   ]
  },
  {
   "cell_type": "code",
   "execution_count": 21,
   "metadata": {
    "collapsed": false
   },
   "outputs": [
    {
     "name": "stdout",
     "output_type": "stream",
     "text": [
      "0/110: 9.6476\n",
      "1/110: 8.3957\n",
      "2/110: 8.5628\n",
      "3/110: 8.6846\n",
      "4/110: 10.2545\n",
      "5/110: 9.6652\n",
      "6/110: 9.5243\n",
      "7/110: 8.6263\n",
      "8/110: 9.5955\n",
      "9/110: 9.5704\n",
      "10/110: 9.2270\n",
      "11/110: 8.6435\n",
      "12/110: 8.6445\n",
      "13/110: 8.6685\n",
      "14/110: 10.8645\n",
      "15/110: 10.3207\n",
      "16/110: 10.0791\n",
      "17/110: 9.0251\n",
      "18/110: 8.8151\n",
      "19/110: 7.6840\n",
      "20/110: 9.4030\n",
      "21/110: 7.3125\n",
      "22/110: 8.6452\n",
      "23/110: 9.5077\n",
      "24/110: 8.4778\n",
      "25/110: 7.8043\n",
      "26/110: 8.6017\n",
      "27/110: 9.0167\n",
      "28/110: 9.5099\n",
      "29/110: 9.7189\n",
      "30/110: 8.8985\n",
      "31/110: 11.1002\n",
      "32/110: 9.9378\n",
      "33/110: 8.8808\n",
      "34/110: 9.5209\n",
      "35/110: 10.0590\n",
      "36/110: 9.2101\n",
      "37/110: 8.9082\n",
      "38/110: 7.7661\n",
      "39/110: 9.7191\n",
      "40/110: 9.3241\n",
      "41/110: 8.7996\n",
      "42/110: 9.2030\n",
      "43/110: 8.4950\n",
      "44/110: 8.8450\n",
      "45/110: 9.5663\n",
      "46/110: 9.4266\n",
      "47/110: 10.4591\n",
      "48/110: 9.5377\n",
      "49/110: 7.1565\n",
      "50/110: 7.1396\n",
      "51/110: 6.9808\n",
      "52/110: 7.3444\n",
      "53/110: 7.6374\n",
      "54/110: 7.6853\n",
      "55/110: 8.3734\n",
      "56/110: 7.5864\n",
      "57/110: 7.7283\n",
      "58/110: 8.2927\n",
      "59/110: 9.6127\n",
      "60/110: 10.7765\n",
      "61/110: 7.4209\n",
      "62/110: 9.1648\n",
      "63/110: 8.9762\n",
      "64/110: 2.3989\n",
      "65/110: 2.3154\n",
      "66/110: 3.4713\n",
      "67/110: 3.7243\n",
      "68/110: 4.4789\n",
      "69/110: 4.2932\n",
      "70/110: 4.4421\n",
      "71/110: 4.9470\n",
      "72/110: 4.2209\n",
      "73/110: 4.6228\n",
      "74/110: 4.8972\n",
      "75/110: 4.1432\n",
      "76/110: 4.2689\n",
      "77/110: 3.3825\n",
      "78/110: 3.4294\n",
      "79/110: 3.4670\n",
      "80/110: 3.6251\n",
      "81/110: 3.2404\n",
      "82/110: 3.3354\n",
      "83/110: 3.4756\n",
      "84/110: 2.9696\n",
      "85/110: 3.1354\n",
      "86/110: 4.2315\n",
      "87/110: 4.7041\n",
      "88/110: 4.1206\n",
      "89/110: 4.1700\n",
      "90/110: 4.4347\n",
      "91/110: 3.8434\n",
      "92/110: 4.6009\n",
      "93/110: 4.6152\n",
      "94/110: 4.5266\n",
      "95/110: 4.7007\n",
      "96/110: 4.1298\n",
      "97/110: 2.6257\n",
      "98/110: 2.1038\n",
      "99/110: 2.1612\n",
      "100/110: 4.9926\n",
      "101/110: 5.5980\n",
      "102/110: 5.1655\n",
      "103/110: 5.4430\n",
      "104/110: 5.1021\n",
      "105/110: 4.2244\n",
      "106/110: 4.8507\n",
      "107/110: 5.5497\n",
      "108/110: 5.6777\n",
      "109/110: 3.2000\n",
      "aeroplane 0.906862745098\n",
      "bicycle 0.556485355649\n",
      "bird 0.879432624113\n",
      "boat 0.726744186047\n",
      "bottle 0.221698113208\n",
      "bus 0.764367816092\n",
      "car 0.718446601942\n",
      "cat 0.894409937888\n",
      "chair 0.333333333333\n",
      "cow 0.92125984252\n",
      "diningtable 0.378947368421\n",
      "dog 0.923444976077\n",
      "horse 0.689781021898\n",
      "motorbike 0.68018018018\n",
      "person 0.692575984056\n",
      "pottedplant 0.383928571429\n",
      "sheep 0.907216494845\n",
      "sofa 0.596412556054\n",
      "train 0.88416988417\n",
      "tvmonitor 0.28384279476\n",
      "mean acc 0.667177019389\n"
     ]
    }
   ],
   "source": [
    "(accs, num_hits, num_total) = play_pointing_game(net, transformer, paths, labels, ann_paths, \n",
    "                                                 'guided_backprop', labels_desc, \n",
    "                       top_name = 'loss3/classifier-ft', bottom_name = 'data', norm_deg = np.inf, batch_size = 64, \n",
    "                       gpu = gpu)\n",
    "\n",
    "for i in range(len(labels_desc)):\n",
    "    print labels_desc[i], accs[i]\n",
    "print 'mean acc', np.mean(accs)"
   ]
  },
  {
   "cell_type": "code",
   "execution_count": 31,
   "metadata": {
    "collapsed": true
   },
   "outputs": [],
   "source": [
    "guided_accs = accs\n",
    "guided_num_hits = num_hits\n",
    "guided_num_total = num_total"
   ]
  },
  {
   "cell_type": "code",
   "execution_count": 34,
   "metadata": {
    "collapsed": false,
    "scrolled": true
   },
   "outputs": [
    {
     "name": "stdout",
     "output_type": "stream",
     "text": [
      "0/110: 2.7633\n",
      "1/110: 2.9681\n",
      "2/110: 2.8486\n",
      "3/110: 2.6105\n",
      "4/110: 3.4032\n",
      "5/110: 2.1736\n",
      "6/110: 3.1239\n",
      "7/110: 2.2651\n",
      "8/110: 2.8455\n",
      "9/110: 2.4477\n",
      "10/110: 2.2263\n",
      "11/110: 2.5170\n",
      "12/110: 2.2674\n",
      "13/110: 2.5478\n",
      "14/110: 2.6095\n",
      "15/110: 3.4250\n",
      "16/110: 3.9668\n",
      "17/110: 2.2823\n",
      "18/110: 1.7795\n",
      "19/110: 2.5269\n",
      "20/110: 1.6277\n",
      "21/110: 1.2454\n",
      "22/110: 1.8580\n",
      "23/110: 1.8989\n",
      "24/110: 1.6840\n",
      "25/110: 2.3902\n",
      "26/110: 2.2983\n",
      "27/110: 2.1140\n",
      "28/110: 3.0094\n",
      "29/110: 4.0918\n",
      "30/110: 4.8361\n",
      "31/110: 3.8918\n",
      "32/110: 3.6593\n",
      "33/110: 3.3516\n",
      "34/110: 2.7026\n",
      "35/110: 2.7572\n",
      "36/110: 3.0745\n",
      "37/110: 4.0144\n",
      "38/110: 4.3082\n",
      "39/110: 4.4956\n",
      "40/110: 2.7856\n",
      "41/110: 4.5434\n",
      "42/110: 4.7499\n",
      "43/110: 4.1262\n",
      "44/110: 3.8626\n",
      "45/110: 5.0893\n",
      "46/110: 5.3981\n",
      "47/110: 4.4948\n",
      "48/110: 3.4046\n",
      "49/110: 3.6030\n",
      "50/110: 3.4331\n",
      "51/110: 3.1949\n",
      "52/110: 3.2661\n",
      "53/110: 3.9449\n",
      "54/110: 3.0607\n",
      "55/110: 3.1650\n",
      "56/110: 3.2286\n",
      "57/110: 2.4182\n",
      "58/110: 3.7418\n",
      "59/110: 4.3109\n",
      "60/110: 4.4172\n",
      "61/110: 4.5369\n",
      "62/110: 4.8875\n",
      "63/110: 4.9156\n",
      "64/110: 3.9636\n",
      "65/110: 3.7973\n",
      "66/110: 4.9883\n",
      "67/110: 3.6866\n",
      "68/110: 5.2331\n",
      "69/110: 3.8626\n",
      "70/110: 4.7478\n",
      "71/110: 4.4376\n",
      "72/110: 4.6362\n",
      "73/110: 4.1141\n",
      "74/110: 4.2657\n",
      "75/110: 3.9295\n",
      "76/110: 2.7929\n",
      "77/110: 2.6043\n",
      "78/110: 3.2450\n",
      "79/110: 2.7648\n",
      "80/110: 2.5083\n",
      "81/110: 3.7853\n",
      "82/110: 3.8498\n",
      "83/110: 2.3124\n",
      "84/110: 4.2615\n",
      "85/110: 3.9827\n",
      "86/110: 3.4186\n",
      "87/110: 3.9089\n",
      "88/110: 4.1797\n",
      "89/110: 5.3324\n",
      "90/110: 3.7885\n",
      "91/110: 4.7194\n",
      "92/110: 5.7045\n",
      "93/110: 5.5257\n",
      "94/110: 5.7437\n",
      "95/110: 4.8132\n",
      "96/110: 4.6302\n",
      "97/110: 4.9996\n",
      "98/110: 4.9715\n",
      "99/110: 4.7962\n",
      "100/110: 4.8629\n",
      "101/110: 3.7671\n",
      "102/110: 3.1466\n",
      "103/110: 3.1192\n",
      "104/110: 3.6250\n",
      "105/110: 3.5994\n",
      "106/110: 4.2443\n",
      "107/110: 4.7881\n",
      "108/110: 4.2300\n",
      "109/110: 2.4914\n",
      "aeroplane 0.808823529412\n",
      "bicycle 0.543933054393\n",
      "bird 0.741134751773\n",
      "boat 0.598837209302\n",
      "bottle 0.221698113208\n",
      "bus 0.781609195402\n",
      "car 0.629680998613\n",
      "cat 0.850931677019\n",
      "chair 0.31654676259\n",
      "cow 0.637795275591\n",
      "diningtable 0.510526315789\n",
      "dog 0.777511961722\n",
      "horse 0.894160583942\n",
      "motorbike 0.77027027027\n",
      "person 0.626307922272\n",
      "pottedplant 0.379464285714\n",
      "sheep 0.659793814433\n",
      "sofa 0.663677130045\n",
      "train 0.857142857143\n",
      "tvmonitor 0.35807860262\n",
      "mean acc 0.631396215563\n"
     ]
    }
   ],
   "source": [
    "(accs, num_hits, num_total) = play_pointing_game(net, transformer, paths, labels, ann_paths, \n",
    "                                                 'center', labels_desc, \n",
    "                       top_name = 'loss3/classifier-ft', bottom_name = 'data', norm_deg = np.inf, batch_size = 64, \n",
    "                       gpu = gpu)\n",
    "\n",
    "for i in range(len(labels_desc)):\n",
    "    print labels_desc[i], accs[i]\n",
    "print 'mean acc', np.mean(accs)"
   ]
  },
  {
   "cell_type": "code",
   "execution_count": 39,
   "metadata": {
    "collapsed": false
   },
   "outputs": [
    {
     "name": "stdout",
     "output_type": "stream",
     "text": [
      "[  165.   130.   209.   103.    47.   136.   454.   274.   132.    81.\n",
      "    97.   325.   245.   171.  1257.    85.    64.   148.   222.    82.]\n",
      "0.631256238414\n"
     ]
    }
   ],
   "source": [
    "print num_hits\n",
    "print np.sum(num_hits) / float(np.sum(num_total))"
   ]
  },
  {
   "cell_type": "code",
   "execution_count": 7,
   "metadata": {
    "collapsed": true
   },
   "outputs": [],
   "source": [
    "ind = 1\n",
    "img_path = paths[ind]\n",
    "ann_path = ann_paths[ind]\n",
    "label = labels[ind]"
   ]
  },
  {
   "cell_type": "code",
   "execution_count": 23,
   "metadata": {
    "collapsed": false
   },
   "outputs": [
    {
     "data": {
      "text/plain": [
       "(1, 14, 14)"
      ]
     },
     "execution_count": 23,
     "metadata": {},
     "output_type": "execute_result"
    }
   ],
   "source": [
    "acts = np.random.rand(1,183,14,14)\n",
    "alphas = np.random.rand(1,183)\n",
    "np.maximum(np.sum(acts * np.expand_dims(np.expand_dims(alphas, 2),3), 1), 0).shape"
   ]
  },
  {
   "cell_type": "code",
   "execution_count": 22,
   "metadata": {
    "collapsed": false
   },
   "outputs": [
    {
     "data": {
      "text/plain": [
       "(1, 183, 14, 14)"
      ]
     },
     "execution_count": 22,
     "metadata": {},
     "output_type": "execute_result"
    }
   ],
   "source": [
    "np.tile(np.expand_dims(np.expand_dims(alphas, 2),3),(1,1,14,14)).shape"
   ]
  },
  {
   "cell_type": "code",
   "execution_count": 24,
   "metadata": {
    "collapsed": false
   },
   "outputs": [],
   "source": [
    "bottom_name = 'inception_4e/output'\n",
    "norm_deg = None\n",
    "heatmap = compute_heatmap(net, transformer, img_path, label, heatmap_type = 'grad_cam', topBlobName = 'loss3/classifier-ft', \n",
    "                topLayerName = 'loss3/classifier-ft',\n",
    "                    outputBlobName = bottom_name, outputLayerName = bottom_name, secondTopBlobName = 'pool5/7x7_s1',\n",
    "                    secondTopLayerName = 'pool5/7x7_s1', norm_deg = norm_deg, gpu = 0)"
   ]
  },
  {
   "cell_type": "code",
   "execution_count": 25,
   "metadata": {
    "collapsed": false
   },
   "outputs": [
    {
     "name": "stdout",
     "output_type": "stream",
     "text": [
      "(250, 183)\n",
      "[53, 117, 458, 231]\n"
     ]
    },
    {
     "data": {
      "image/png": "[encoded data removed]",
      "text/plain": [
       "<matplotlib.figure.Figure at 0x7fc216e83490>"
      ]
     },
     "metadata": {},
     "output_type": "display_data"
    }
   ],
   "source": [
    "resize = caffe.io.load_image(img_path).shape[:2]\n",
    "f, ax = plt.subplots(1,2)\n",
    "ax[0].imshow(caffe.io.load_image(img_path))\n",
    "ax[1].imshow(imresize(heatmap, resize))\n",
    "for a in ax:\n",
    "    a.set_xticks([])\n",
    "    a.set_yticks([])\n",
    "m = (resize[1]/2, resize[0]/2)\n",
    "#m = get_maximum_from_heatmap(heatmap, resize)\n",
    "print m\n",
    "ax[1].add_artist(plt.Circle((m[0], m[1]), 5, color='r'))\n",
    "objs = load_objs(ann_path)\n",
    "target_objs = objs[labels_desc[label]]\n",
    "\n",
    "#for k in objs.keys():\n",
    "#    print k\n",
    "for i in range(len(target_objs)):\n",
    "    bb_coords = target_objs[i]\n",
    "    is_hit = bb_coords[0] <= m[0] and bb_coords[1] <= m[1] and bb_coords[2] >= m[0] and bb_coords[3] >= m[1]\n",
    "    rect = patches.Rectangle((bb_coords[0],bb_coords[1]),bb_coords[2]-bb_coords[0],bb_coords[3]-bb_coords[1],\n",
    "                 linewidth=1,edgecolor= 'g' if is_hit else 'r',facecolor='none')\n",
    "    ax[1].add_patch(rect)\n",
    "    print bb_coords\n",
    "plt.show()"
   ]
  },
  {
   "cell_type": "code",
   "execution_count": 14,
   "metadata": {
    "collapsed": false
   },
   "outputs": [
    {
     "data": {
      "text/plain": [
       "True"
      ]
     },
     "execution_count": 14,
     "metadata": {},
     "output_type": "execute_result"
    }
   ],
   "source": [
    "len(np.unique(objs.keys())) > 1"
   ]
  },
  {
   "cell_type": "code",
   "execution_count": 16,
   "metadata": {
    "collapsed": false
   },
   "outputs": [
    {
     "name": "stdout",
     "output_type": "stream",
     "text": [
      "1\n"
     ]
    }
   ],
   "source": [
    "z = 0\n",
    "z += 1 if True else False\n",
    "print z"
   ]
  },
  {
   "cell_type": "code",
   "execution_count": null,
   "metadata": {
    "collapsed": true
   },
   "outputs": [],
   "source": []
  }
 ],
 "metadata": {
  "kernelspec": {
   "display_name": "Python 2",
   "language": "python",
   "name": "python2"
  },
  "language_info": {
   "codemirror_mode": {
    "name": "ipython",
    "version": 2
   },
   "file_extension": ".py",
   "mimetype": "text/x-python",
   "name": "python",
   "nbconvert_exporter": "python",
   "pygments_lexer": "ipython2",
   "version": "2.7.13"
  }
 },
 "nbformat": 4,
 "nbformat_minor": 2
}
